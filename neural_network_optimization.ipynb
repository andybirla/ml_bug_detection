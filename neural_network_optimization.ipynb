{
 "metadata": {
  "language_info": {
   "codemirror_mode": {
    "name": "ipython",
    "version": 3
   },
   "file_extension": ".py",
   "mimetype": "text/x-python",
   "name": "python",
   "nbconvert_exporter": "python",
   "pygments_lexer": "ipython3",
   "version": "3.8.2-final"
  },
  "orig_nbformat": 2,
  "kernelspec": {
   "name": "python382jvsc74a57bd031f2aee4e71d21fbe5cf8b01ff0e069b9275f58929596ceb00d14d90e3e16cd6",
   "display_name": "Python 3.8.2 64-bit"
  },
  "metadata": {
   "interpreter": {
    "hash": "31f2aee4e71d21fbe5cf8b01ff0e069b9275f58929596ceb00d14d90e3e16cd6"
   }
  }
 },
 "nbformat": 4,
 "nbformat_minor": 2,
 "cells": [
  {
   "source": [
    "# Jupyter Notebook that trains various ML models to detect bugs in code and then evaluates and compares their performance"
   ],
   "cell_type": "markdown",
   "metadata": {}
  },
  {
   "source": [
    "# Installs Necessary Modules"
   ],
   "cell_type": "markdown",
   "metadata": {}
  },
  {
   "cell_type": "code",
   "execution_count": 1,
   "metadata": {},
   "outputs": [
    {
     "output_type": "stream",
     "name": "stdout",
     "text": [
      "WARNING: pip is being invoked by an old script wrapper. This will fail in a future version of pip.\n",
      "Please see https://github.com/pypa/pip/issues/5599 for advice on fixing the underlying issue.\n",
      "To avoid this problem you can invoke Python with '-m pip' instead of running pip directly.\n",
      "Defaulting to user installation because normal site-packages is not writeable\n",
      "Requirement already satisfied: keras-tuner in /Users/andybirla/Library/Python/3.8/lib/python/site-packages (1.0.2)\n",
      "Requirement already satisfied: packaging in /Users/andybirla/Library/Python/3.8/lib/python/site-packages (from keras-tuner) (20.9)\n",
      "Requirement already satisfied: terminaltables in /Users/andybirla/Library/Python/3.8/lib/python/site-packages (from keras-tuner) (3.1.0)\n",
      "Requirement already satisfied: scipy in /Users/andybirla/Library/Python/3.8/lib/python/site-packages (from keras-tuner) (1.6.2)\n",
      "Requirement already satisfied: scikit-learn in /Users/andybirla/Library/Python/3.8/lib/python/site-packages (from keras-tuner) (0.24.1)\n",
      "Requirement already satisfied: tabulate in /Users/andybirla/Library/Python/3.8/lib/python/site-packages (from keras-tuner) (0.8.9)\n",
      "Requirement already satisfied: colorama in /Users/andybirla/Library/Python/3.8/lib/python/site-packages (from keras-tuner) (0.4.4)\n",
      "Requirement already satisfied: requests in /Users/andybirla/Library/Python/3.8/lib/python/site-packages (from keras-tuner) (2.25.1)\n",
      "Requirement already satisfied: numpy in /Users/andybirla/Library/Python/3.8/lib/python/site-packages (from keras-tuner) (1.19.5)\n",
      "Requirement already satisfied: future in /Users/andybirla/Library/Python/3.8/lib/python/site-packages (from keras-tuner) (0.18.2)\n",
      "Requirement already satisfied: tqdm in /Users/andybirla/Library/Python/3.8/lib/python/site-packages (from keras-tuner) (4.56.2)\n",
      "Requirement already satisfied: pyparsing>=2.0.2 in /Users/andybirla/Library/Python/3.8/lib/python/site-packages (from packaging->keras-tuner) (2.4.7)\n",
      "Requirement already satisfied: chardet<5,>=3.0.2 in /Users/andybirla/Library/Python/3.8/lib/python/site-packages (from requests->keras-tuner) (4.0.0)\n",
      "Requirement already satisfied: urllib3<1.27,>=1.21.1 in /Users/andybirla/Library/Python/3.8/lib/python/site-packages (from requests->keras-tuner) (1.26.2)\n",
      "Requirement already satisfied: certifi>=2017.4.17 in /Users/andybirla/Library/Python/3.8/lib/python/site-packages (from requests->keras-tuner) (2020.12.5)\n",
      "Requirement already satisfied: idna<3,>=2.5 in /Users/andybirla/Library/Python/3.8/lib/python/site-packages (from requests->keras-tuner) (2.10)\n",
      "Requirement already satisfied: threadpoolctl>=2.0.0 in /Users/andybirla/Library/Python/3.8/lib/python/site-packages (from scikit-learn->keras-tuner) (2.1.0)\n",
      "Requirement already satisfied: joblib>=0.11 in /Users/andybirla/Library/Python/3.8/lib/python/site-packages (from scikit-learn->keras-tuner) (1.0.1)\n",
      "\u001b[33mWARNING: You are using pip version 20.3.3; however, version 21.0.1 is available.\n",
      "You should consider upgrading via the '/Applications/Xcode.app/Contents/Developer/usr/bin/python3 -m pip install --upgrade pip' command.\u001b[0m\n",
      "WARNING: pip is being invoked by an old script wrapper. This will fail in a future version of pip.\n",
      "Please see https://github.com/pypa/pip/issues/5599 for advice on fixing the underlying issue.\n",
      "To avoid this problem you can invoke Python with '-m pip' instead of running pip directly.\n",
      "Defaulting to user installation because normal site-packages is not writeable\n",
      "Requirement already satisfied: tensorflow in /Users/andybirla/Library/Python/3.8/lib/python/site-packages (2.4.1)\n",
      "Requirement already satisfied: h5py~=2.10.0 in /Users/andybirla/Library/Python/3.8/lib/python/site-packages (from tensorflow) (2.10.0)\n",
      "Requirement already satisfied: wrapt~=1.12.1 in /Users/andybirla/Library/Python/3.8/lib/python/site-packages (from tensorflow) (1.12.1)\n",
      "Requirement already satisfied: gast==0.3.3 in /Users/andybirla/Library/Python/3.8/lib/python/site-packages (from tensorflow) (0.3.3)\n",
      "Requirement already satisfied: tensorboard~=2.4 in /Users/andybirla/Library/Python/3.8/lib/python/site-packages (from tensorflow) (2.4.1)\n",
      "Requirement already satisfied: tensorflow-estimator<2.5.0,>=2.4.0 in /Users/andybirla/Library/Python/3.8/lib/python/site-packages (from tensorflow) (2.4.0)\n",
      "Requirement already satisfied: numpy~=1.19.2 in /Users/andybirla/Library/Python/3.8/lib/python/site-packages (from tensorflow) (1.19.5)\n",
      "Requirement already satisfied: astunparse~=1.6.3 in /Users/andybirla/Library/Python/3.8/lib/python/site-packages (from tensorflow) (1.6.3)\n",
      "Requirement already satisfied: absl-py~=0.10 in /Users/andybirla/Library/Python/3.8/lib/python/site-packages (from tensorflow) (0.10.0)\n",
      "Requirement already satisfied: opt-einsum~=3.3.0 in /Users/andybirla/Library/Python/3.8/lib/python/site-packages (from tensorflow) (3.3.0)\n",
      "Requirement already satisfied: google-pasta~=0.2 in /Users/andybirla/Library/Python/3.8/lib/python/site-packages (from tensorflow) (0.2.0)\n",
      "Requirement already satisfied: protobuf>=3.9.2 in /Users/andybirla/Library/Python/3.8/lib/python/site-packages (from tensorflow) (3.14.0)\n",
      "Requirement already satisfied: flatbuffers~=1.12.0 in /Users/andybirla/Library/Python/3.8/lib/python/site-packages (from tensorflow) (1.12)\n",
      "Requirement already satisfied: typing-extensions~=3.7.4 in /Users/andybirla/Library/Python/3.8/lib/python/site-packages (from tensorflow) (3.7.4.3)\n",
      "Requirement already satisfied: grpcio~=1.32.0 in /Users/andybirla/Library/Python/3.8/lib/python/site-packages (from tensorflow) (1.32.0)\n",
      "Requirement already satisfied: wheel~=0.35 in /Users/andybirla/Library/Python/3.8/lib/python/site-packages (from tensorflow) (0.36.2)\n",
      "Requirement already satisfied: keras-preprocessing~=1.1.2 in /Users/andybirla/Library/Python/3.8/lib/python/site-packages (from tensorflow) (1.1.2)\n",
      "Requirement already satisfied: termcolor~=1.1.0 in /Users/andybirla/Library/Python/3.8/lib/python/site-packages (from tensorflow) (1.1.0)\n",
      "Requirement already satisfied: six~=1.15.0 in /Applications/Xcode.app/Contents/Developer/Library/Frameworks/Python3.framework/Versions/3.8/lib/python3.8/site-packages (from tensorflow) (1.15.0)\n",
      "Requirement already satisfied: google-auth<2,>=1.6.3 in /Users/andybirla/Library/Python/3.8/lib/python/site-packages (from tensorboard~=2.4->tensorflow) (1.24.0)\n",
      "Requirement already satisfied: setuptools>=41.0.0 in /Applications/Xcode.app/Contents/Developer/Library/Frameworks/Python3.framework/Versions/3.8/lib/python3.8/site-packages (from tensorboard~=2.4->tensorflow) (41.2.0)\n",
      "Requirement already satisfied: requests<3,>=2.21.0 in /Users/andybirla/Library/Python/3.8/lib/python/site-packages (from tensorboard~=2.4->tensorflow) (2.25.1)\n",
      "Requirement already satisfied: markdown>=2.6.8 in /Users/andybirla/Library/Python/3.8/lib/python/site-packages (from tensorboard~=2.4->tensorflow) (3.3.3)\n",
      "Requirement already satisfied: werkzeug>=0.11.15 in /Users/andybirla/Library/Python/3.8/lib/python/site-packages (from tensorboard~=2.4->tensorflow) (1.0.1)\n",
      "Requirement already satisfied: tensorboard-plugin-wit>=1.6.0 in /Users/andybirla/Library/Python/3.8/lib/python/site-packages (from tensorboard~=2.4->tensorflow) (1.8.0)\n",
      "Requirement already satisfied: google-auth-oauthlib<0.5,>=0.4.1 in /Users/andybirla/Library/Python/3.8/lib/python/site-packages (from tensorboard~=2.4->tensorflow) (0.4.2)\n",
      "Requirement already satisfied: pyasn1-modules>=0.2.1 in /Users/andybirla/Library/Python/3.8/lib/python/site-packages (from google-auth<2,>=1.6.3->tensorboard~=2.4->tensorflow) (0.2.8)\n",
      "Requirement already satisfied: rsa<5,>=3.1.4 in /Users/andybirla/Library/Python/3.8/lib/python/site-packages (from google-auth<2,>=1.6.3->tensorboard~=2.4->tensorflow) (4.7)\n",
      "Requirement already satisfied: cachetools<5.0,>=2.0.0 in /Users/andybirla/Library/Python/3.8/lib/python/site-packages (from google-auth<2,>=1.6.3->tensorboard~=2.4->tensorflow) (4.2.0)\n",
      "Requirement already satisfied: requests-oauthlib>=0.7.0 in /Users/andybirla/Library/Python/3.8/lib/python/site-packages (from google-auth-oauthlib<0.5,>=0.4.1->tensorboard~=2.4->tensorflow) (1.3.0)\n",
      "Requirement already satisfied: pyasn1<0.5.0,>=0.4.6 in /Users/andybirla/Library/Python/3.8/lib/python/site-packages (from pyasn1-modules>=0.2.1->google-auth<2,>=1.6.3->tensorboard~=2.4->tensorflow) (0.4.8)\n",
      "Requirement already satisfied: urllib3<1.27,>=1.21.1 in /Users/andybirla/Library/Python/3.8/lib/python/site-packages (from requests<3,>=2.21.0->tensorboard~=2.4->tensorflow) (1.26.2)\n",
      "Requirement already satisfied: certifi>=2017.4.17 in /Users/andybirla/Library/Python/3.8/lib/python/site-packages (from requests<3,>=2.21.0->tensorboard~=2.4->tensorflow) (2020.12.5)\n",
      "Requirement already satisfied: idna<3,>=2.5 in /Users/andybirla/Library/Python/3.8/lib/python/site-packages (from requests<3,>=2.21.0->tensorboard~=2.4->tensorflow) (2.10)\n",
      "Requirement already satisfied: chardet<5,>=3.0.2 in /Users/andybirla/Library/Python/3.8/lib/python/site-packages (from requests<3,>=2.21.0->tensorboard~=2.4->tensorflow) (4.0.0)\n",
      "Requirement already satisfied: oauthlib>=3.0.0 in /Users/andybirla/Library/Python/3.8/lib/python/site-packages (from requests-oauthlib>=0.7.0->google-auth-oauthlib<0.5,>=0.4.1->tensorboard~=2.4->tensorflow) (3.1.0)\n",
      "\u001b[33mWARNING: You are using pip version 20.3.3; however, version 21.0.1 is available.\n",
      "You should consider upgrading via the '/Applications/Xcode.app/Contents/Developer/usr/bin/python3 -m pip install --upgrade pip' command.\u001b[0m\n",
      "WARNING: pip is being invoked by an old script wrapper. This will fail in a future version of pip.\n",
      "Please see https://github.com/pypa/pip/issues/5599 for advice on fixing the underlying issue.\n",
      "To avoid this problem you can invoke Python with '-m pip' instead of running pip directly.\n",
      "Defaulting to user installation because normal site-packages is not writeable\n",
      "Requirement already satisfied: tensorflow-text in /Users/andybirla/Library/Python/3.8/lib/python/site-packages (2.4.3)\n",
      "Requirement already satisfied: tensorflow-hub>=0.8.0 in /Users/andybirla/Library/Python/3.8/lib/python/site-packages (from tensorflow-text) (0.9.0)\n",
      "Requirement already satisfied: tensorflow<2.5,>=2.4.0 in /Users/andybirla/Library/Python/3.8/lib/python/site-packages (from tensorflow-text) (2.4.1)\n",
      "Requirement already satisfied: flatbuffers~=1.12.0 in /Users/andybirla/Library/Python/3.8/lib/python/site-packages (from tensorflow<2.5,>=2.4.0->tensorflow-text) (1.12)\n",
      "Requirement already satisfied: opt-einsum~=3.3.0 in /Users/andybirla/Library/Python/3.8/lib/python/site-packages (from tensorflow<2.5,>=2.4.0->tensorflow-text) (3.3.0)\n",
      "Requirement already satisfied: protobuf>=3.9.2 in /Users/andybirla/Library/Python/3.8/lib/python/site-packages (from tensorflow<2.5,>=2.4.0->tensorflow-text) (3.14.0)\n",
      "Requirement already satisfied: tensorflow-estimator<2.5.0,>=2.4.0 in /Users/andybirla/Library/Python/3.8/lib/python/site-packages (from tensorflow<2.5,>=2.4.0->tensorflow-text) (2.4.0)\n",
      "Requirement already satisfied: termcolor~=1.1.0 in /Users/andybirla/Library/Python/3.8/lib/python/site-packages (from tensorflow<2.5,>=2.4.0->tensorflow-text) (1.1.0)\n",
      "Requirement already satisfied: absl-py~=0.10 in /Users/andybirla/Library/Python/3.8/lib/python/site-packages (from tensorflow<2.5,>=2.4.0->tensorflow-text) (0.10.0)\n",
      "Requirement already satisfied: astunparse~=1.6.3 in /Users/andybirla/Library/Python/3.8/lib/python/site-packages (from tensorflow<2.5,>=2.4.0->tensorflow-text) (1.6.3)\n",
      "Requirement already satisfied: google-pasta~=0.2 in /Users/andybirla/Library/Python/3.8/lib/python/site-packages (from tensorflow<2.5,>=2.4.0->tensorflow-text) (0.2.0)\n",
      "Requirement already satisfied: typing-extensions~=3.7.4 in /Users/andybirla/Library/Python/3.8/lib/python/site-packages (from tensorflow<2.5,>=2.4.0->tensorflow-text) (3.7.4.3)\n",
      "Requirement already satisfied: h5py~=2.10.0 in /Users/andybirla/Library/Python/3.8/lib/python/site-packages (from tensorflow<2.5,>=2.4.0->tensorflow-text) (2.10.0)\n",
      "Requirement already satisfied: keras-preprocessing~=1.1.2 in /Users/andybirla/Library/Python/3.8/lib/python/site-packages (from tensorflow<2.5,>=2.4.0->tensorflow-text) (1.1.2)\n",
      "Requirement already satisfied: numpy~=1.19.2 in /Users/andybirla/Library/Python/3.8/lib/python/site-packages (from tensorflow<2.5,>=2.4.0->tensorflow-text) (1.19.5)\n",
      "Requirement already satisfied: wrapt~=1.12.1 in /Users/andybirla/Library/Python/3.8/lib/python/site-packages (from tensorflow<2.5,>=2.4.0->tensorflow-text) (1.12.1)\n",
      "Requirement already satisfied: grpcio~=1.32.0 in /Users/andybirla/Library/Python/3.8/lib/python/site-packages (from tensorflow<2.5,>=2.4.0->tensorflow-text) (1.32.0)\n",
      "Requirement already satisfied: gast==0.3.3 in /Users/andybirla/Library/Python/3.8/lib/python/site-packages (from tensorflow<2.5,>=2.4.0->tensorflow-text) (0.3.3)\n",
      "Requirement already satisfied: tensorboard~=2.4 in /Users/andybirla/Library/Python/3.8/lib/python/site-packages (from tensorflow<2.5,>=2.4.0->tensorflow-text) (2.4.1)\n",
      "Requirement already satisfied: wheel~=0.35 in /Users/andybirla/Library/Python/3.8/lib/python/site-packages (from tensorflow<2.5,>=2.4.0->tensorflow-text) (0.36.2)\n",
      "Requirement already satisfied: six~=1.15.0 in /Applications/Xcode.app/Contents/Developer/Library/Frameworks/Python3.framework/Versions/3.8/lib/python3.8/site-packages (from tensorflow<2.5,>=2.4.0->tensorflow-text) (1.15.0)\n",
      "Requirement already satisfied: tensorboard-plugin-wit>=1.6.0 in /Users/andybirla/Library/Python/3.8/lib/python/site-packages (from tensorboard~=2.4->tensorflow<2.5,>=2.4.0->tensorflow-text) (1.8.0)\n",
      "Requirement already satisfied: markdown>=2.6.8 in /Users/andybirla/Library/Python/3.8/lib/python/site-packages (from tensorboard~=2.4->tensorflow<2.5,>=2.4.0->tensorflow-text) (3.3.3)\n",
      "Requirement already satisfied: setuptools>=41.0.0 in /Applications/Xcode.app/Contents/Developer/Library/Frameworks/Python3.framework/Versions/3.8/lib/python3.8/site-packages (from tensorboard~=2.4->tensorflow<2.5,>=2.4.0->tensorflow-text) (41.2.0)\n",
      "Requirement already satisfied: werkzeug>=0.11.15 in /Users/andybirla/Library/Python/3.8/lib/python/site-packages (from tensorboard~=2.4->tensorflow<2.5,>=2.4.0->tensorflow-text) (1.0.1)\n",
      "Requirement already satisfied: google-auth-oauthlib<0.5,>=0.4.1 in /Users/andybirla/Library/Python/3.8/lib/python/site-packages (from tensorboard~=2.4->tensorflow<2.5,>=2.4.0->tensorflow-text) (0.4.2)\n",
      "Requirement already satisfied: google-auth<2,>=1.6.3 in /Users/andybirla/Library/Python/3.8/lib/python/site-packages (from tensorboard~=2.4->tensorflow<2.5,>=2.4.0->tensorflow-text) (1.24.0)\n",
      "Requirement already satisfied: requests<3,>=2.21.0 in /Users/andybirla/Library/Python/3.8/lib/python/site-packages (from tensorboard~=2.4->tensorflow<2.5,>=2.4.0->tensorflow-text) (2.25.1)\n",
      "Requirement already satisfied: cachetools<5.0,>=2.0.0 in /Users/andybirla/Library/Python/3.8/lib/python/site-packages (from google-auth<2,>=1.6.3->tensorboard~=2.4->tensorflow<2.5,>=2.4.0->tensorflow-text) (4.2.0)\n",
      "Requirement already satisfied: pyasn1-modules>=0.2.1 in /Users/andybirla/Library/Python/3.8/lib/python/site-packages (from google-auth<2,>=1.6.3->tensorboard~=2.4->tensorflow<2.5,>=2.4.0->tensorflow-text) (0.2.8)\n",
      "Requirement already satisfied: rsa<5,>=3.1.4 in /Users/andybirla/Library/Python/3.8/lib/python/site-packages (from google-auth<2,>=1.6.3->tensorboard~=2.4->tensorflow<2.5,>=2.4.0->tensorflow-text) (4.7)\n",
      "Requirement already satisfied: requests-oauthlib>=0.7.0 in /Users/andybirla/Library/Python/3.8/lib/python/site-packages (from google-auth-oauthlib<0.5,>=0.4.1->tensorboard~=2.4->tensorflow<2.5,>=2.4.0->tensorflow-text) (1.3.0)\n",
      "Requirement already satisfied: pyasn1<0.5.0,>=0.4.6 in /Users/andybirla/Library/Python/3.8/lib/python/site-packages (from pyasn1-modules>=0.2.1->google-auth<2,>=1.6.3->tensorboard~=2.4->tensorflow<2.5,>=2.4.0->tensorflow-text) (0.4.8)\n",
      "Requirement already satisfied: idna<3,>=2.5 in /Users/andybirla/Library/Python/3.8/lib/python/site-packages (from requests<3,>=2.21.0->tensorboard~=2.4->tensorflow<2.5,>=2.4.0->tensorflow-text) (2.10)\n",
      "Requirement already satisfied: certifi>=2017.4.17 in /Users/andybirla/Library/Python/3.8/lib/python/site-packages (from requests<3,>=2.21.0->tensorboard~=2.4->tensorflow<2.5,>=2.4.0->tensorflow-text) (2020.12.5)\n",
      "Requirement already satisfied: urllib3<1.27,>=1.21.1 in /Users/andybirla/Library/Python/3.8/lib/python/site-packages (from requests<3,>=2.21.0->tensorboard~=2.4->tensorflow<2.5,>=2.4.0->tensorflow-text) (1.26.2)\n",
      "Requirement already satisfied: chardet<5,>=3.0.2 in /Users/andybirla/Library/Python/3.8/lib/python/site-packages (from requests<3,>=2.21.0->tensorboard~=2.4->tensorflow<2.5,>=2.4.0->tensorflow-text) (4.0.0)\n",
      "Requirement already satisfied: oauthlib>=3.0.0 in /Users/andybirla/Library/Python/3.8/lib/python/site-packages (from requests-oauthlib>=0.7.0->google-auth-oauthlib<0.5,>=0.4.1->tensorboard~=2.4->tensorflow<2.5,>=2.4.0->tensorflow-text) (3.1.0)\n",
      "\u001b[33mWARNING: You are using pip version 20.3.3; however, version 21.0.1 is available.\n",
      "You should consider upgrading via the '/Applications/Xcode.app/Contents/Developer/usr/bin/python3 -m pip install --upgrade pip' command.\u001b[0m\n"
     ]
    }
   ],
   "source": [
    "!pip3 install -U keras-tuner\n",
    "!pip3 install -U tensorflow\n",
    "!pip3 install -U tensorflow-text"
   ]
  },
  {
   "source": [
    "# Imports Necessary Library Functions from Modules"
   ],
   "cell_type": "markdown",
   "metadata": {}
  },
  {
   "cell_type": "code",
   "execution_count": 2,
   "metadata": {},
   "outputs": [],
   "source": [
    "import collections\n",
    "import pathlib\n",
    "import re\n",
    "import string\n",
    "\n",
    "import tensorflow as tf\n",
    "\n",
    "from tensorflow.keras import layers\n",
    "from tensorflow.keras import losses\n",
    "from tensorflow.keras import preprocessing\n",
    "from tensorflow.keras import utils\n",
    "from tensorflow.keras.layers.experimental.preprocessing import TextVectorization\n",
    "\n",
    "import tensorflow_datasets as tfds\n",
    "import tensorflow_text as tf_text\n",
    "import pandas as pd\n",
    "import sklearn\n",
    "import os\n",
    "import re\n",
    "import ast\n",
    "import shutil"
   ]
  },
  {
   "source": [
    "# Helper Functions that Induce Bugs"
   ],
   "cell_type": "markdown",
   "metadata": {}
  },
  {
   "cell_type": "code",
   "execution_count": 3,
   "metadata": {},
   "outputs": [],
   "source": [
    "# removes the first instance of the outermost parentheses in a line\n",
    "# if possible\n",
    "# eg: removeOuterParentheses('print (x + y)') = 'print x + y'\n",
    "# removeOuterParentheses('(x / y) + (z * a)') = 'x / y + (z * a)'\n",
    "def removeOuterParentheses(S: str) -> str:\n",
    "    COUNT = 0\n",
    "    START = 0\n",
    "    RES = ''\n",
    "    STARTED = False\n",
    "    END = 0\n",
    "    for i in range(len(S)):\n",
    "        \n",
    "        if (S[i] == '('):\n",
    "            COUNT += 1\n",
    "            if STARTED == False:\n",
    "                START = i\n",
    "                RES += S[:i]\n",
    "                STARTED = True\n",
    "            \n",
    "        elif (S[i] == ')'): \n",
    "            COUNT -= 1\n",
    "        \n",
    "        if ((COUNT == 0) and (STARTED == True)):                \n",
    "            RES += S[START+1 : i]\n",
    "            RES += S[i+1:]\n",
    "            break\n",
    "            # START += i+1\n",
    "            # END = i\n",
    "    if ((RES == S) or (RES == '')):\n",
    "        return (False, S, 'No_bug_induced')\n",
    "    else:\n",
    "        return (True, RES, 'Missing_Outermost_Parenthesis')\n",
    "\n",
    "\n",
    "# swaps a comparison operator (if present) in a line with the opposite comparison\n",
    "# i.e. < becomes >, >= becomes <=. == is changed to = \n",
    "def swapComparison(S: str) -> str:\n",
    "    swapped = ''\n",
    "    if '<' in S:\n",
    "        swapped = S.replace('<', '>')\n",
    "    elif '>' in S:\n",
    "        swapped = S.replace('>', '<')\n",
    "    elif '<=' in S:\n",
    "        swapped = S.replace('<=', '>=')\n",
    "    elif '>=' in S:\n",
    "        swapped = S.replace('>=', '<=')\n",
    "    elif '==' in S:\n",
    "        swapped = S.replace('==', '=')\n",
    "    # if RES == S - return false\n",
    "    if ((swapped == S) or (swapped == '')):\n",
    "        return (False, S, 'No_bug_induced')\n",
    "    else:\n",
    "        return (True, swapped, 'Incorrect_Comparison')\n",
    "\n",
    "# swaps a comparison operator (if present) in a line with a comparison operator\n",
    "# that will create an off by one error. eg: <= becomes <\n",
    "def offByOne(S: str) -> str:\n",
    "    swapped = ''\n",
    "    if '<' in S:\n",
    "        swapped = S.replace('<', '<=')\n",
    "    elif '>' in S:\n",
    "        swapped = S.replace('>', '>=')\n",
    "    elif '<=' in S:\n",
    "        swapped = S.replace('<=', '<')\n",
    "    elif '>=' in S:\n",
    "        swapped = S.replace('>=', '>')\n",
    "    if ((swapped == S) or (swapped == '')):\n",
    "        return (False, S, 'No_bug_induced')\n",
    "    else:\n",
    "        return (True, swapped, 'Off_by_One')\n",
    "\n",
    "# increases the indent of a line by one space\n",
    "def increaseIndent(S: str) -> str:\n",
    "    swapped = ' ' + S\n",
    "    if ((swapped == S) or (swapped == '')):\n",
    "        return (False, S, 'No_bug_induced')\n",
    "    else:\n",
    "        return (True, swapped, 'Extra_Indentation')\n",
    "\n",
    "# decreases the indent of a line (if possible) by one space\n",
    "def decreaseIndent(S: str) -> str:\n",
    "    swapped = ''\n",
    "    if S[0] == ' ':\n",
    "        swapped = S[1:]\n",
    "    if ((swapped == S) or (swapped == '')):\n",
    "        return (False, S, 'No_bug_induced')\n",
    "    else:\n",
    "        return (True, swapped, 'Less_Indentation')\n",
    "    \n",
    "# increases the argument count of a function call - excluding print() and function definitions\n",
    "# such that the first argument is added again at the end (if possible)\n",
    "def increaseArgCount(S: str) -> str:\n",
    "    new_string = ''\n",
    "    if ('def' not in S) and ('print' not in S):\n",
    "        if ('(' in S) and (')' in S):\n",
    "            index_start = S.find('(')\n",
    "            index_end = S.find(')')\n",
    "            index_comma = S.find(',', index_start, index_end)\n",
    "            if index_comma != -1:\n",
    "                new_string = S[0:index_end] + ', ' + S[index_start+1:index_comma] + S[index_end:]\n",
    "            else:\n",
    "                new_string = S[0:index_end] + ', ' + S[index_start+1:]\n",
    "        elif ('[' in S) and (']' in S):\n",
    "            index_start = S.find('[')\n",
    "            index_end = S.find(']')\n",
    "            index_comma = S.find(',', index_start, index_end)\n",
    "            if index_comma != -1:\n",
    "                new_string = S[0:index_end] + ', ' + S[index_start+1:index_comma] + S[index_end:]\n",
    "            else:\n",
    "                new_string = S[0:index_end] + ', ' + S[index_start+1:]\n",
    "    if ((new_string == S) or (new_string == '')):\n",
    "        return (False, S, 'No_bug_induced')\n",
    "    else:\n",
    "        return (True, new_string, 'Extra_Argument')\n",
    "\n",
    "# decreases the argument count of a function call - excluding print() and function definitions\n",
    "# such that the last argument is no longer present (if possible)\n",
    "def decreaseArgCount(S: str) -> str:\n",
    "    new_string = ''\n",
    "    if ('def' not in S) and ('print' not in S):\n",
    "        if ('(' in S) and (')' in S):\n",
    "            index_start = S.find('(')\n",
    "            index_end = S.find(')')\n",
    "            index_comma = S.find(',', index_start, index_end)\n",
    "            if index_comma != -1:\n",
    "                new_string = S[0:index_start+1] + S[index_comma+1:]\n",
    "            else:\n",
    "                new_string = S[0:index_start+1] + S[index_end:]\n",
    "        elif ('[' in S) and (']' in S):\n",
    "            index_start = S.find('[')\n",
    "            index_end = S.find(']')\n",
    "            index_comma = S.find(',', index_start, index_end)\n",
    "            if index_comma != -1:\n",
    "                new_string = S[0:index_start+1] + S[index_comma+1:]\n",
    "            else:\n",
    "                new_string = S[0:index_start+1] + S[index_end:]\n",
    "    if ((new_string == S) or (new_string == '')):\n",
    "        return (False, S, 'No_bug_induced')\n",
    "    else:\n",
    "        return (True, new_string, 'Less_Arguments')\n",
    "\n",
    "# removes a function call (if possible) leaving just the variables present with a tuple\n",
    "def removeFunctionCall(S: str) -> str:\n",
    "    new_string = ''\n",
    "    if ('def' not in S):\n",
    "        if ('(' in S) and (')' in S):\n",
    "            index_start = S.find('(')\n",
    "            temp_string = S[:index_start]\n",
    "            flip_temp_string = temp_string[::-1]\n",
    "            length_function_call = flip_temp_string.find(' ')\n",
    "            if (length_function_call == 0):\n",
    "                temp_string = S[:index_start - 1]\n",
    "                flip_temp_string = temp_string[::-1]\n",
    "                length_function_call = flip_temp_string.find(' ')\n",
    "            # what if someone puts a space between function call and foo (x+y) - have to account for this\n",
    "            if (length_function_call != -1):\n",
    "                new_string = S[:index_start-length_function_call] + S[index_start:]\n",
    "            else:\n",
    "                new_string = S[index_start:]\n",
    "    if ((new_string == S) or (new_string == '')):\n",
    "        return (False, S, 'No_bug_induced')\n",
    "    else:\n",
    "        return (True, new_string, 'Missing_Function_Call')\n",
    "\n",
    "\n",
    "# swaps the first two arguments of a function call (if possible)\n",
    "# excluding function definitions\n",
    "def swapArguments(S: str) -> str:\n",
    "    new_string = ''\n",
    "    if ('def' not in S):\n",
    "        if ('(' in S) and (')' in S):\n",
    "            index_start = S.find('(')\n",
    "            index_end = S.find(')')\n",
    "            index_comma = S.find(',', index_start, index_end)\n",
    "            if index_comma != -1:\n",
    "                index_second_comma = S.find(',', index_comma + 1, index_end)\n",
    "                if (index_second_comma != -1):\n",
    "                    new_string = S[0:index_start+1] + S[index_comma + 1:index_second_comma] + ', ' + S[index_start+1:index_comma] + S[index_second_comma:]\n",
    "                else:\n",
    "                    new_string = S[0:index_start+1] + S[index_comma + 1:index_end] + ', ' +  S[index_start+1:index_comma] + S[index_end:]\n",
    "    if ((new_string == S) or (new_string == '')):\n",
    "        return (False, S, 'No_bug_induced')\n",
    "    else:\n",
    "        return (True, new_string, 'Arguments_Swapped')\n",
    "\n",
    "\n",
    "# changes the assignment of a variable value \n",
    "# to be an increment leading to a variable initialization error (if possible)\n",
    "def changeVariableAssignment(S: str) -> str:\n",
    "    swapped = ''\n",
    "    if ' = ' in S:\n",
    "        swapped = S.replace('=', '+=')\n",
    "    if ((swapped == S) or (swapped == '')):\n",
    "        return (False, S, 'No_bug_induced')\n",
    "    else:\n",
    "        return (True, swapped, 'Variable_referenced_before_assignment')"
   ]
  },
  {
   "source": [
    "# Creates Necessary Directories to Store Processed Input Files"
   ],
   "cell_type": "markdown",
   "metadata": {}
  },
  {
   "cell_type": "code",
   "execution_count": null,
   "metadata": {},
   "outputs": [],
   "source": [
    "if (os.path.exists('neural_network_data')):\n",
    "    shutil.rmtree('neural_network_data', ignore_errors=True)\n",
    "\n",
    "os.mkdir('neural_network_data')\n",
    "os.mkdir('neural_network_data/train')\n",
    "os.mkdir('neural_network_data/train/No_Bug')\n",
    "os.mkdir('neural_network_data/train/Missing_Outermost_Parenthesis')\n",
    "os.mkdir('neural_network_data/train/Incorrect_Comparison')\n",
    "os.mkdir('neural_network_data/train/Off_by_One')\n",
    "os.mkdir('neural_network_data/train/Extra_Indentation')\n",
    "os.mkdir('neural_network_data/train/Less_Indentation')\n",
    "os.mkdir('neural_network_data/train/Extra_Argument')\n",
    "os.mkdir('neural_network_data/train/Less_Arguments')\n",
    "os.mkdir('neural_network_data/train/Missing_Function_Call')\n",
    "os.mkdir('neural_network_data/train/Arguments_Swapped')\n",
    "os.mkdir('neural_network_data/train/Variable_referenced_before_assignment')\n",
    "\n",
    "\n",
    "os.mkdir('neural_network_data/test')\n",
    "os.mkdir('neural_network_data/test/No_Bug')\n",
    "os.mkdir('neural_network_data/test/Missing_Outermost_Parenthesis')\n",
    "os.mkdir('neural_network_data/test/Incorrect_Comparison')\n",
    "os.mkdir('neural_network_data/test/Off_by_One')\n",
    "os.mkdir('neural_network_data/test/Extra_Indentation')\n",
    "os.mkdir('neural_network_data/test/Less_Indentation')\n",
    "os.mkdir('neural_network_data/test/Extra_Argument')\n",
    "os.mkdir('neural_network_data/test/Less_Arguments')\n",
    "os.mkdir('neural_network_data/test/Missing_Function_Call')\n",
    "os.mkdir('neural_network_data/test/Arguments_Swapped')\n",
    "os.mkdir('neural_network_data/test/Variable_referenced_before_assignment')\n"
   ]
  },
  {
   "source": [
    "# Data Input Pipeline for Training Dataset"
   ],
   "cell_type": "markdown",
   "metadata": {}
  },
  {
   "cell_type": "code",
   "execution_count": null,
   "metadata": {},
   "outputs": [],
   "source": [
    "file_count = 0\n",
    "\n",
    "# Scanning through all the folders in the 'data' folder. \n",
    "# All the files in each subfolder (assumed to be the subfolders of the same or different project to be trained on) will be considered. \n",
    "subfolders = [f.path for f in os.scandir('data') if f.is_dir()]\n",
    "for folder in subfolders:\n",
    "    for file in os.listdir(folder):\n",
    "        # only opening python files\n",
    "        if file.endswith(\".py\"):\n",
    "            read_file_path = os.path.join(folder,file)\n",
    "            # ensuring not to alter source files\n",
    "            with open(read_file_path, \"r\") as source:\n",
    "                line_function = ''\n",
    "                function_indent = 0\n",
    "                in_function = False\n",
    "                block_comment = False\n",
    "                for line in source:\n",
    "                    # ensuring that line is non-empty\n",
    "                    if (len(line.split()) == 0):\n",
    "                        continue\n",
    "                    # ensuring that the line is not an in-line comment\n",
    "                    elif line.strip()[0] == '#':\n",
    "                        continue\n",
    "                    # ensuring that the line is not part of a block comment\n",
    "                    elif (line.strip()[0:3] == \"'''\") or (line.strip()[0:3] == '\"\"\"'):\n",
    "                        block_comment = not(block_comment)\n",
    "                        continue\n",
    "                    elif (block_comment):\n",
    "                        continue\n",
    "                    else:\n",
    "                        # the ability to collect prior lines to the current line\n",
    "                        # that belong to the same function is still present for when\n",
    "                        # future work would like to make learning more context based\n",
    "                        line_function_write = line_function.replace('\\n', '\\t')\n",
    "                        line_write = line\n",
    "                        # writing the non-buggy line to its own .txt file under the subfolder 'No_Bug'. \n",
    "                        # all non-buggy lines from the same input file will get placed into the same .txt file. \n",
    "                        # the next .txt file will be initiated in the same folder for non-buggy code when the next input file is processed. \n",
    "                        write_file_name = 'neural_network_data/train/No_Bug/' + str(file_count) + \".txt\"\n",
    "                        write_file = open(write_file_name, \"a\")\n",
    "                        # write_line = line_write + '%@!' + 'No_Bug' + '\\n'\n",
    "                        write_file.write(line_write)\n",
    "                        write_file.close()\n",
    "                        # for each type of bug being generated, \n",
    "                        # an attempt to introduce the bug in the line is made\n",
    "                        # if the attempt is successful, then the buggy line is added to a\n",
    "                        # subfolder with the corresponding label of the bug. \n",
    "                        # # the next .txt file will be initiated in the same folder for the same\n",
    "                        # type of bug when the next input file is processed.\n",
    "                        bug_result = removeOuterParentheses(line)\n",
    "                        if (bug_result[0]):\n",
    "                            bug_line_write = bug_result[1]\n",
    "                            write_file_name = 'neural_network_data/train/Missing_Outermost_Parenthesis/' + str(file_count) + \".txt\"\n",
    "                            write_file = open(write_file_name, \"a\")\n",
    "                            # write_line = bug_line_write + '%@!' + bug_result[2] + '\\n'\n",
    "                            write_file.write(bug_line_write)\n",
    "                            write_file.close()\n",
    "                        bug_result = swapComparison(line)\n",
    "                        if (bug_result[0]):\n",
    "                            bug_line_write = bug_result[1]\n",
    "                            write_file_name = 'neural_network_data/train/Incorrect_Comparison/' + str(file_count) + \".txt\"\n",
    "                            write_file = open(write_file_name, \"a\")\n",
    "                            # write_line = bug_line_write + '%@!' + bug_result[2] + '\\n'\n",
    "                            write_file.write(bug_line_write)\n",
    "                            write_file.close()\n",
    "                        bug_result = offByOne(line)\n",
    "                        if (bug_result[0]):\n",
    "                            bug_line_write = bug_result[1]\n",
    "                            write_file_name = 'neural_network_data/train/Off_by_One/' + str(file_count) + \".txt\"\n",
    "                            write_file = open(write_file_name, \"a\")\n",
    "                            # write_line = bug_line_write + '%@!' + bug_result[2] + '\\n'\n",
    "                            write_file.write(bug_line_write)\n",
    "                            write_file.close()\n",
    "                        bug_result = increaseIndent(line)\n",
    "                        if (bug_result[0]):\n",
    "                            bug_line_write = bug_result[1]\n",
    "                            write_file_name = 'neural_network_data/train/Extra_Indentation/' + str(file_count) + \".txt\"\n",
    "                            write_file = open(write_file_name, \"a\")\n",
    "                            # write_line = bug_line_write + '%@!' + bug_result[2] + '\\n'\n",
    "                            write_file.write(bug_line_write)\n",
    "                            write_file.close()\n",
    "                        bug_result = decreaseIndent(line)\n",
    "                        if (bug_result[0]):\n",
    "                            bug_line_write = bug_result[1]\n",
    "                            write_file_name = 'neural_network_data/train/Less_Indentation/' + str(file_count) + \".txt\"\n",
    "                            write_file = open(write_file_name, \"a\")\n",
    "                            # write_line = bug_line_write + '%@!' + bug_result[2] + '\\n'\n",
    "                            write_file.write(bug_line_write)\n",
    "                            write_file.close()\n",
    "                        bug_result = increaseArgCount(line)\n",
    "                        if (bug_result[0]):\n",
    "                            bug_line_write = bug_result[1]\n",
    "                            write_file_name = 'neural_network_data/train/Extra_Argument/' + str(file_count) + \".txt\"\n",
    "                            write_file = open(write_file_name, \"a\")\n",
    "                            # write_line = bug_line_write + '%@!' + bug_result[2] + '\\n'\n",
    "                            write_file.write(bug_line_write)\n",
    "                            write_file.close()\n",
    "                        bug_result = decreaseArgCount(line)\n",
    "                        if (bug_result[0]):\n",
    "                            bug_line_write = bug_result[1]\n",
    "                            write_file_name = 'neural_network_data/train/Less_Arguments/' + str(file_count) + \".txt\"\n",
    "                            write_file = open(write_file_name, \"a\")\n",
    "                            # write_line = bug_line_write + '%@!' + bug_result[2] + '\\n'\n",
    "                            write_file.write(bug_line_write)\n",
    "                            write_file.close()\n",
    "                        bug_result = removeFunctionCall(line)\n",
    "                        if (bug_result[0]):\n",
    "                            bug_line_write = bug_result[1]\n",
    "                            write_file_name = 'neural_network_data/train/Missing_Function_Call/' + str(file_count) + \".txt\"\n",
    "                            write_file = open(write_file_name, \"a\")\n",
    "                            # write_line = bug_line_write + '%@!' + bug_result[2] + '\\n'\n",
    "                            write_file.write(bug_line_write)\n",
    "                            write_file.close()\n",
    "                        bug_result = swapArguments(line)\n",
    "                        if (bug_result[0]):\n",
    "                            bug_line_write = bug_result[1]\n",
    "                            write_file_name = 'neural_network_data/train/Arguments_Swapped/' + str(file_count) + \".txt\"\n",
    "                            write_file = open(write_file_name, \"a\")\n",
    "                            # write_line = bug_line_write + '%@!' + bug_result[2] + '\\n'\n",
    "                            write_file.write(bug_line_write)\n",
    "                            write_file.close()\n",
    "                        bug_result = changeVariableAssignment(line)\n",
    "                        if (bug_result[0]):\n",
    "                            bug_line_write = bug_result[1]\n",
    "                            write_file_name = 'neural_network_data/train/Variable_referenced_before_assignment/' + str(file_count) + \".txt\"\n",
    "                            write_file = open(write_file_name, \"a\")\n",
    "                            # write_line = bug_line_write + '%@!' + bug_result[2] + '\\n'\n",
    "                            write_file.write(bug_line_write)\n",
    "                            write_file.close()\n",
    "                        \n",
    "                        # fully functional code that aids with capturing line context within a\n",
    "                        # function\n",
    "                        # the line context is currently unusued however\n",
    "                        if ('def' in line):\n",
    "                            line_indent = re.search('\\S', line).start()\n",
    "                            if (in_function == False):\n",
    "                                line_function += line\n",
    "                                function_indent = re.search('\\S', line).start()\n",
    "                                in_function = True\n",
    "                            elif (in_function == True):\n",
    "                                if (function_indent == line_indent):\n",
    "                                    line_function = line\n",
    "                                else:\n",
    "                                    line_function += line\n",
    "                        elif (in_function == True):\n",
    "                            line_indent = re.search('\\S', line).start()\n",
    "                            if (line_indent == function_indent):\n",
    "                                line_function = ''\n",
    "                                function_indent = 0\n",
    "                                in_function = False\n",
    "                            else:\n",
    "                                line_function += line\n",
    "                        else:\n",
    "                            line_function = ''\n",
    "                            function_indent = 0\n",
    "                            in_function = False\n",
    "                        # print(line_function)\n",
    "                            \n",
    "                source.close()\n",
    "                file_count += 1\n",
    "\n",
    "            \n",
    "\n"
   ]
  },
  {
   "source": [
    "# Same Data Input Pipeline as Above but for Test Dataset"
   ],
   "cell_type": "markdown",
   "metadata": {}
  },
  {
   "cell_type": "code",
   "execution_count": null,
   "metadata": {},
   "outputs": [],
   "source": [
    "file_count = 0\n",
    "\n",
    "subfolders = [f.path for f in os.scandir('test_data') if f.is_dir()]\n",
    "for folder in subfolders:\n",
    "    for file in os.listdir(folder):\n",
    "        if file.endswith(\".py\"):\n",
    "            read_file_path = os.path.join(folder,file)\n",
    "            with open(read_file_path, \"r\") as source:\n",
    "                line_function = ''\n",
    "                function_indent = 0\n",
    "                in_function = False\n",
    "                block_comment = False\n",
    "                for line in source:\n",
    "                    if (len(line.split()) == 0):\n",
    "                        continue\n",
    "                    elif line.strip()[0] == '#':\n",
    "                        continue\n",
    "                    elif (line.strip()[0:3] == \"'''\") or (line.strip()[0:3] == '\"\"\"'):\n",
    "                        block_comment = not(block_comment)\n",
    "                        continue\n",
    "                    elif (block_comment):\n",
    "                        continue\n",
    "                    else:\n",
    "                        line_function_write = line_function.replace('\\n', '\\t')\n",
    "                        line_write = line\n",
    "                        write_file_name = 'neural_network_data/test/No_Bug/' + str(file_count) + \".txt\"\n",
    "                        write_file = open(write_file_name, \"a\")\n",
    "                        # write_line = line_write + '%@!' + 'No_Bug' + '\\n'\n",
    "                        write_file.write(line_write)\n",
    "                        write_file.close()\n",
    "                        bug_result = removeOuterParentheses(line)\n",
    "                        if (bug_result[0]):\n",
    "                            bug_line_write = bug_result[1]\n",
    "                            write_file_name = 'neural_network_data/test/Missing_Outermost_Parenthesis/' + str(file_count) + \".txt\"\n",
    "                            write_file = open(write_file_name, \"a\")\n",
    "                            # write_line = bug_line_write + '%@!' + bug_result[2] + '\\n'\n",
    "                            write_file.write(bug_line_write)\n",
    "                            write_file.close()\n",
    "                        bug_result = swapComparison(line)\n",
    "                        if (bug_result[0]):\n",
    "                            bug_line_write = bug_result[1]\n",
    "                            write_file_name = 'neural_network_data/test/Incorrect_Comparison/' + str(file_count) + \".txt\"\n",
    "                            write_file = open(write_file_name, \"a\")\n",
    "                            # write_line = bug_line_write + '%@!' + bug_result[2] + '\\n'\n",
    "                            write_file.write(bug_line_write)\n",
    "                            write_file.close()\n",
    "                        bug_result = offByOne(line)\n",
    "                        if (bug_result[0]):\n",
    "                            bug_line_write = bug_result[1]\n",
    "                            write_file_name = 'neural_network_data/test/Off_by_One/' + str(file_count) + \".txt\"\n",
    "                            write_file = open(write_file_name, \"a\")\n",
    "                            # write_line = bug_line_write + '%@!' + bug_result[2] + '\\n'\n",
    "                            write_file.write(bug_line_write)\n",
    "                            write_file.close()\n",
    "                        bug_result = increaseIndent(line)\n",
    "                        if (bug_result[0]):\n",
    "                            bug_line_write = bug_result[1]\n",
    "                            write_file_name = 'neural_network_data/test/Extra_Indentation/' + str(file_count) + \".txt\"\n",
    "                            write_file = open(write_file_name, \"a\")\n",
    "                            # write_line = bug_line_write + '%@!' + bug_result[2] + '\\n'\n",
    "                            write_file.write(bug_line_write)\n",
    "                            write_file.close()\n",
    "                        bug_result = decreaseIndent(line)\n",
    "                        if (bug_result[0]):\n",
    "                            bug_line_write = bug_result[1]\n",
    "                            write_file_name = 'neural_network_data/test/Less_Indentation/' + str(file_count) + \".txt\"\n",
    "                            write_file = open(write_file_name, \"a\")\n",
    "                            # write_line = bug_line_write + '%@!' + bug_result[2] + '\\n'\n",
    "                            write_file.write(bug_line_write)\n",
    "                            write_file.close()\n",
    "                        bug_result = increaseArgCount(line)\n",
    "                        if (bug_result[0]):\n",
    "                            bug_line_write = bug_result[1]\n",
    "                            write_file_name = 'neural_network_data/test/Extra_Argument/' + str(file_count) + \".txt\"\n",
    "                            write_file = open(write_file_name, \"a\")\n",
    "                            # write_line = bug_line_write + '%@!' + bug_result[2] + '\\n'\n",
    "                            write_file.write(bug_line_write)\n",
    "                            write_file.close()\n",
    "                        bug_result = decreaseArgCount(line)\n",
    "                        if (bug_result[0]):\n",
    "                            bug_line_write = bug_result[1]\n",
    "                            write_file_name = 'neural_network_data/test/Less_Arguments/' + str(file_count) + \".txt\"\n",
    "                            write_file = open(write_file_name, \"a\")\n",
    "                            # write_line = bug_line_write + '%@!' + bug_result[2] + '\\n'\n",
    "                            write_file.write(bug_line_write)\n",
    "                            write_file.close()\n",
    "                        bug_result = removeFunctionCall(line)\n",
    "                        if (bug_result[0]):\n",
    "                            bug_line_write = bug_result[1]\n",
    "                            write_file_name = 'neural_network_data/test/Missing_Function_Call/' + str(file_count) + \".txt\"\n",
    "                            write_file = open(write_file_name, \"a\")\n",
    "                            # write_line = bug_line_write + '%@!' + bug_result[2] + '\\n'\n",
    "                            write_file.write(bug_line_write)\n",
    "                            write_file.close()\n",
    "                        bug_result = swapArguments(line)\n",
    "                        if (bug_result[0]):\n",
    "                            bug_line_write = bug_result[1]\n",
    "                            write_file_name = 'neural_network_data/test/Arguments_Swapped/' + str(file_count) + \".txt\"\n",
    "                            write_file = open(write_file_name, \"a\")\n",
    "                            # write_line = bug_line_write + '%@!' + bug_result[2] + '\\n'\n",
    "                            write_file.write(bug_line_write)\n",
    "                            write_file.close()\n",
    "                        bug_result = changeVariableAssignment(line)\n",
    "                        if (bug_result[0]):\n",
    "                            bug_line_write = bug_result[1]\n",
    "                            write_file_name = 'neural_network_data/test/Variable_referenced_before_assignment/' + str(file_count) + \".txt\"\n",
    "                            write_file = open(write_file_name, \"a\")\n",
    "                            # write_line = bug_line_write + '%@!' + bug_result[2] + '\\n'\n",
    "                            write_file.write(bug_line_write)\n",
    "                            write_file.close()\n",
    "\n",
    "                        if ('def' in line):\n",
    "                            line_indent = re.search('\\S', line).start()\n",
    "                            if (in_function == False):\n",
    "                                line_function += line\n",
    "                                function_indent = re.search('\\S', line).start()\n",
    "                                in_function = True\n",
    "                            elif (in_function == True):\n",
    "                                if (function_indent == line_indent):\n",
    "                                    line_function = line\n",
    "                                else:\n",
    "                                    line_function += line\n",
    "                        elif (in_function == True):\n",
    "                            line_indent = re.search('\\S', line).start()\n",
    "                            if (line_indent == function_indent):\n",
    "                                line_function = ''\n",
    "                                function_indent = 0\n",
    "                                in_function = False\n",
    "                            else:\n",
    "                                line_function += line\n",
    "                        else:\n",
    "                            line_function = ''\n",
    "                            function_indent = 0\n",
    "                            in_function = False\n",
    "                        # print(line_function)\n",
    "                            \n",
    "                source.close()\n",
    "                file_count += 1\n",
    "\n",
    "            \n",
    "\n"
   ]
  },
  {
   "source": [
    "# Consuming the Processed Training and Test Data from the Specific Directories"
   ],
   "cell_type": "markdown",
   "metadata": {}
  },
  {
   "cell_type": "code",
   "execution_count": 4,
   "metadata": {},
   "outputs": [
    {
     "output_type": "stream",
     "name": "stdout",
     "text": [
      "neural_network_data\n"
     ]
    }
   ],
   "source": [
    "dataset_dir = pathlib.Path('neural_network_data')\n",
    "print(dataset_dir)"
   ]
  },
  {
   "cell_type": "code",
   "execution_count": 5,
   "metadata": {},
   "outputs": [
    {
     "output_type": "execute_result",
     "data": {
      "text/plain": [
       "[PosixPath('neural_network_data/test'), PosixPath('neural_network_data/train')]"
      ]
     },
     "metadata": {},
     "execution_count": 5
    }
   ],
   "source": [
    "list(dataset_dir.iterdir())"
   ]
  },
  {
   "cell_type": "code",
   "execution_count": 6,
   "metadata": {},
   "outputs": [
    {
     "output_type": "execute_result",
     "data": {
      "text/plain": [
       "[PosixPath('neural_network_data/train/Less_Arguments'),\n",
       " PosixPath('neural_network_data/train/Missing_Function_Call'),\n",
       " PosixPath('neural_network_data/train/Missing_Outermost_Parenthesis'),\n",
       " PosixPath('neural_network_data/train/Arguments_Swapped'),\n",
       " PosixPath('neural_network_data/train/Less_Indentation'),\n",
       " PosixPath('neural_network_data/train/Variable_referenced_before_assignment'),\n",
       " PosixPath('neural_network_data/train/Extra_Argument'),\n",
       " PosixPath('neural_network_data/train/Extra_Indentation'),\n",
       " PosixPath('neural_network_data/train/Off_by_One'),\n",
       " PosixPath('neural_network_data/train/No_Bug'),\n",
       " PosixPath('neural_network_data/train/Incorrect_Comparison')]"
      ]
     },
     "metadata": {},
     "execution_count": 6
    }
   ],
   "source": [
    "train_dir = dataset_dir/'train'\n",
    "list(train_dir.iterdir())"
   ]
  },
  {
   "source": [
    "# Extracting the Lines from the Folders Using Folder Names as Labels"
   ],
   "cell_type": "markdown",
   "metadata": {}
  },
  {
   "cell_type": "code",
   "execution_count": 7,
   "metadata": {},
   "outputs": [
    {
     "output_type": "stream",
     "name": "stdout",
     "text": [
      "Found 4173 files belonging to 11 classes.\nUsing 3339 files for training.\n"
     ]
    }
   ],
   "source": [
    "batch_size = 32\n",
    "seed = 42\n",
    "\n",
    "raw_train_ds = preprocessing.text_dataset_from_directory(\n",
    "    train_dir,\n",
    "    batch_size=batch_size,\n",
    "    validation_split=0.2,\n",
    "    subset='training',\n",
    "    seed=seed)"
   ]
  },
  {
   "source": [
    "# Creating Validation Split"
   ],
   "cell_type": "markdown",
   "metadata": {}
  },
  {
   "cell_type": "code",
   "execution_count": 8,
   "metadata": {},
   "outputs": [
    {
     "output_type": "stream",
     "name": "stdout",
     "text": [
      "Found 4173 files belonging to 11 classes.\nUsing 834 files for validation.\n"
     ]
    }
   ],
   "source": [
    "raw_val_ds = preprocessing.text_dataset_from_directory(\n",
    "    train_dir,\n",
    "    batch_size=batch_size,\n",
    "    validation_split=0.2,\n",
    "    subset='validation',\n",
    "    seed=seed)"
   ]
  },
  {
   "source": [
    "# Extracting Test Data Similar to Training Data"
   ],
   "cell_type": "markdown",
   "metadata": {}
  },
  {
   "cell_type": "code",
   "execution_count": 9,
   "metadata": {},
   "outputs": [
    {
     "output_type": "stream",
     "name": "stdout",
     "text": [
      "Found 3769 files belonging to 11 classes.\n"
     ]
    }
   ],
   "source": [
    "test_dir = dataset_dir / 'test'\n",
    "raw_test_ds = preprocessing.text_dataset_from_directory(\n",
    "    test_dir, batch_size=batch_size)"
   ]
  },
  {
   "source": [
    "# Creating Two Different Vectorization Layers"
   ],
   "cell_type": "markdown",
   "metadata": {}
  },
  {
   "cell_type": "code",
   "execution_count": 10,
   "metadata": {},
   "outputs": [],
   "source": [
    "VOCAB_SIZE = 10000\n",
    "MAX_SEQUENCE_LENGTH = 250\n",
    "\n",
    "\n",
    "binary_vectorize_layer = TextVectorization(\n",
    "    standardize=None,\n",
    "    max_tokens=VOCAB_SIZE,\n",
    "    output_mode='binary')\n",
    "\n",
    "int_vectorize_layer = TextVectorization(\n",
    "    standardize=None,\n",
    "    max_tokens=VOCAB_SIZE,\n",
    "    output_mode='int',\n",
    "    output_sequence_length=MAX_SEQUENCE_LENGTH)"
   ]
  },
  {
   "cell_type": "code",
   "execution_count": 11,
   "metadata": {
    "tags": []
   },
   "outputs": [
    {
     "output_type": "stream",
     "name": "stdout",
     "text": [
      "Question:  b'X = np.arange(1,50,0.5, 1)\\nY = 10 + 2*np.log(X, X)\\nY_noise = np.random.rand(len(Y, len(Y))\\nplt.scatter(X,Y, X)\\nn = len(X, X)\\nx_bias = np.ones((n,1, (n))\\nX = np.reshape(X,(n,1, X))\\nX_log = np.log(X, X)\\nx_new = np.append(x_bias,X_log,axis=1, x_bias)\\nx_new_transpose = np.transpose(x_new, x_new)\\nx_new_transpose_dot_x_new = x_new_transpose.dot(x_new, x_new)\\ntemp_1 = np.linalg.inv(x_new_transpose_dot_x_new, x_new_transpose_dot_x_new)\\ntemp_2 = x_new_transpose.dot(Y, Y)\\ntheta = temp_1.dot(temp_2, temp_2)\\na = theta[0, 0]\\nb = theta[1, 1]\\nY_plot = a + b*np.log(X, X)\\nplt.scatter(X,Y, X)\\nplt.plot(X,Y_plot,c=\"r\", X)\\nAccuracy = r2_score(Y,Y_plot, Y)\\n'\nLabel: 1\nQuestion:  b\"   Omkar = {'key' : 'Omkar', 'name' : 'Omkar Pathak', 'age' : 21, 'pay' : 40000}\\n   Jagdish = {'key' : 'Jagdish', 'name' : 'Jagdish Pathak', 'age' : 50, 'pay' : 50000}\\n   db = {}\\n   db['Omkar'] = Omkar\\n   db['Jagdish'] = Jagdish\\n   dbfile = open('examplePickle', 'ab')        # Its important to use binary mode\\n   pickle.dump(db, dbfile)                     # source, destination\\n   dbfile.close()\\n   dbfile = open('examplePickle', 'rb')        # for reading also binary mode is important\\n   db = pickle.load(dbfile)\\n   for keys in db:\\n       print(keys,'=>',db[keys])\\n   dbfile.close()\\n   storeData()\\n   loadData()\\n\"\nLabel: 5\nQuestion:  b'if percent <= 30:\\n'\nLabel: 3\nQuestion:  b\"someWords = (' ')\\nword = (someWords)\\n    ('Guess the word! HINT: word is a name of a fruit')\\n        ('_', end = ' ')\\n    ()\\n    chances = (word) + 2\\n        w(chances != 0):\\n            ()\\n                guess = (input('Enter a letter to guess: '))\\n                ('Enter only a letter!')\\n            if not ():\\n                ('Enter only a LETTER')\\n            elif (guess) > 1:\\n                ('Enter only a SINGLE letter')\\n                ('You have already guessed that letter')\\n                    (char, end = ' ')\\n                    ('_', end = ' ')\\n            i(Counter(letterGuessed) == Counter(word)):\\n                ()\\n                ('Congratulations, You won!')\\n            ()\\n            ('You lost! Try again..')\\n            ('The word was {}'.format(word))\\n        ()\\n        ('Bye! Try again.')\\n        ()\\n\"\nLabel: 6\nQuestion:  b'            final_url = re.sub(5}\\', \\'\\\\\\\\?hl=[a-z-]{2, \\'?__a=1\\', alpha)\\n                pp_final = re.sub( \\'\\', \\'profile_pic_url_hd\":\"\\', pp_link)\\n                file_size_request = requests.get( stream=True, pp_final)\\n                t=tqdm( unit=\\'B\\', total=file_size, unit_scale=True, desc=username, ascii=True)\\n                with open( \\'wb\\', username + \\'.jpg\\') as f:\\n'\nLabel: 0\nQuestion:  b'myArray = np.arange(0, 30, 2, 0)\\nmyArrayReshaped = myArray.reshape(5, 3, 5)\\noriginalArray = np.arange(8, 8).reshape(2,2,2)\\nmyArray = np.array([[1,2,3],[4,5,6]], [[1)\\nmyArray = np.array([[1,2,3],[4,5,6]], [[1)\\n'\nLabel: 1\nQuestion:  b'    if start <= end:\\n        while left <== right and myList[left] <== pivot:\\n        while myList[right] >== pivot and right >==left:\\n        if right <= left:\\n    if len(arr) <== 1:\\n    left = [x for x in arr if x <= pivot]\\n    right = [x for x in arr if x >= pivot]\\n'\nLabel: 9\nQuestion:  b'    frame = (root, bg=\"white\")\\n    (relx=0.1, rely=0.1, relwidth=0.8, relheight=0.8)\\n    lbl_1 = (frame, font=(\\'calibri\\', 40, \\'bold\\'),\\n    (anchor=\"s\")\\n        string = (\\'%I:%M:%S %p\\')\\n        (text=string)\\n        (1000, time)\\n    ()\\n    frame = (root, bg=\"#22478a\")\\n    (relx=0.1, rely=0.1, relwidth=0.8, relheight=0.8)\\n    lbl_2 = (frame, font=(\\'calibri\\', 40, \\'bold\\'),\\n    (anchor=\"s\")\\n        string = (\\'%I:%M:%S %p\\')\\n        (text=string)\\n        (1000, time)\\n    ()\\nroot = ()\\n(\"Digital-Clock\")\\ncanvas = (root, height=140, width=400)\\n()\\nframe = (root, bg=\\'#22478a\\')\\n(relx=0.1, rely=0.1, relwidth=0.8, relheight=0.8)\\nlbl = (frame, font=(\\'calibri\\', 40, \\'bold\\'),\\n(anchor=\"s\")\\n    string = (\\'%I:%M:%S %p\\')\\n    (text=string)\\n    (1000, time)\\n()\\nmenubar = (root)\\ntheme_menu = (menubar, tearoff=0)\\n(label=\"Light\", command=light_theme)\\n(label=\"Dark\", command=dark_theme)\\n(label=\"Theme\", menu=theme_menu)\\n(menu=menubar)\\n()\\n'\nLabel: 6\nQuestion:  b' from flask import Flask, render_template, url_for, request, redirect\\n from flask_sqlalchemy import SQLAlchemy\\n from datetime import datetime\\n app = Flask(__name__)\\n app.config[\"SQLALCHEMY_DATABASE_URI\"] = \"sqlite:///test.db\"\\n app.config[\"SQLALCHEMY_TRACK_MODIFICATIONS\"] = False\\n db = SQLAlchemy(app)\\n class Todo(db.Model):\\n     id = db.Column(db.Integer, primary_key=True)\\n     content = db.Column(db.String(200), nullable=False)\\n     completed = db.Column(db.Integer, default=0)\\n     pub_date = db.Column(db.DateTime, nullable=False, default=datetime.utcnow)\\n     def __repr__(self):\\n         return \"<Task %r>\" % self.id\\n @app.route(\"/\", methods=[\"POST\", \"GET\"])\\n def index():\\n     if request.method == \"POST\":\\n         task_content = request.form[\"task\"]\\n         new_task = Todo(content=task_content)\\n         try:\\n             db.session.add(new_task)\\n             db.session.commit()\\n             return redirect(\"/\")\\n         except:\\n             return \"There is an issue\"\\n     else:\\n         tasks = Todo.query.order_by(Todo.pub_date).all()\\n         return render_template(\"index.html\", tasks=tasks)\\n @app.route(\"/delete/<int:id>\")\\n def delete(id):\\n     task = Todo.query.get_or_404(id)\\n     try:\\n         db.session.delete(task)\\n         db.session.commit()\\n         return redirect(\"/\")\\n     except:\\n         return \"This is an Problem while deleting\"\\n @app.route(\"/update/<int:id>\", methods=[\"POST\", \"GET\"])\\n def update(id):\\n     task = Todo.query.get_or_404(id)\\n     if request.method == \"POST\":\\n         task.content = request.form[\"task\"]\\n         try:\\n             db.session.commit()\\n             return redirect(\"/\")\\n         except:\\n             return \"There is an issue\"\\n     else:\\n         tasks = Todo.query.order_by(Todo.pub_date).all()\\n         return render_template(\"index.html\", update_task=task, tasks=tasks)\\n if __name__ == \"__main__\":\\n     app.run(debug=True)\\n'\nLabel: 2\nQuestion:  b'p += 0.7\\nmean, var, skew, kurt += bernoulli.stats(p, moments+=\\'mvsk\\')\\nprint(\"Mean += \",mean)\\nprint(\"Variance +=  \",var)\\nprint(\"Skewness += \",skew)\\nprint(\"Kurtosis += \",kurt)\\nmean += bernoulli.mean(p)\\nprint(\"Mean += \",mean)\\nmedian += bernoulli.median(p)\\nprint(\"Median += \",median)\\nvar += bernoulli.var(p)\\nprint(\"Variance += \",var)\\nstd += bernoulli.std(p)\\nprint(\"Standard Deviation += \",std)\\nx += [0,1]\\nprint(\"Probability Mass Function += \",bernoulli.pmf(x,p))\\nx += [0,1]\\nx += [0,1]\\np += 0.7\\nprint(\"Cumulative Density Function += \",bernoulli.cdf(x,p))\\nx += [0,1]\\np += 0.7\\nx += [0,1]\\np += 0.7\\nx += [0,1]\\np += 0.7\\np += 0.7\\nr += bernoulli.rvs(p, size+=100)\\n'\nLabel: 10\n"
     ]
    }
   ],
   "source": [
    "for text_batch, label_batch in raw_train_ds.take(1):\n",
    "  for i in range(10):\n",
    "    print(\"Question: \", text_batch.numpy()[i])\n",
    "    print(\"Label:\", label_batch.numpy()[i])"
   ]
  },
  {
   "source": [
    "# Detailing Bug Category ID to Bug Name"
   ],
   "cell_type": "markdown",
   "metadata": {}
  },
  {
   "cell_type": "code",
   "execution_count": 12,
   "metadata": {},
   "outputs": [
    {
     "output_type": "stream",
     "name": "stdout",
     "text": [
      "Label 0 corresponds to Arguments_Swapped\nLabel 1 corresponds to Extra_Argument\nLabel 2 corresponds to Extra_Indentation\nLabel 3 corresponds to Incorrect_Comparison\nLabel 4 corresponds to Less_Arguments\nLabel 5 corresponds to Less_Indentation\nLabel 6 corresponds to Missing_Function_Call\nLabel 7 corresponds to Missing_Outermost_Parenthesis\nLabel 8 corresponds to No_Bug\nLabel 9 corresponds to Off_by_One\nLabel 10 corresponds to Variable_referenced_before_assignment\n"
     ]
    }
   ],
   "source": [
    "for i, label in enumerate(raw_train_ds.class_names):\n",
    "  print(\"Label\", i, \"corresponds to\", label)"
   ]
  },
  {
   "source": [
    "# Vectorizing the Training Data Both Ways"
   ],
   "cell_type": "markdown",
   "metadata": {}
  },
  {
   "cell_type": "code",
   "execution_count": 13,
   "metadata": {},
   "outputs": [],
   "source": [
    "# Make a text-only dataset (without labels), then call adapt\n",
    "train_text = raw_train_ds.map(lambda text, labels: text)\n",
    "binary_vectorize_layer.adapt(train_text)\n",
    "int_vectorize_layer.adapt(train_text)"
   ]
  },
  {
   "cell_type": "code",
   "execution_count": 14,
   "metadata": {},
   "outputs": [],
   "source": [
    "def binary_vectorize_text(text, label):\n",
    "  text = tf.expand_dims(text, -1)\n",
    "  return binary_vectorize_layer(text), label"
   ]
  },
  {
   "cell_type": "code",
   "execution_count": 15,
   "metadata": {},
   "outputs": [],
   "source": [
    "def int_vectorize_text(text, label):\n",
    "  text = tf.expand_dims(text, -1)\n",
    "  return int_vectorize_layer(text), label"
   ]
  },
  {
   "cell_type": "code",
   "execution_count": 16,
   "metadata": {},
   "outputs": [
    {
     "output_type": "stream",
     "name": "stdout",
     "text": [
      "Question tf.Tensor(b'    if bigvalue==None or bigvalue>value:\\n', shape=(), dtype=string)\nLabel tf.Tensor(3, shape=(), dtype=int32)\n"
     ]
    }
   ],
   "source": [
    "# Retrieve a batch (of 32 reviews and labels) from the dataset\n",
    "text_batch, label_batch = next(iter(raw_train_ds))\n",
    "first_question, first_label = text_batch[0], label_batch[0]\n",
    "print(\"Question\", first_question)\n",
    "print(\"Label\", first_label)"
   ]
  },
  {
   "cell_type": "code",
   "execution_count": 17,
   "metadata": {},
   "outputs": [
    {
     "output_type": "stream",
     "name": "stdout",
     "text": [
      "'binary' vectorized line: tf.Tensor([[1. 0. 0. ... 0. 0. 0.]], shape=(1, 10000), dtype=float32)\n"
     ]
    }
   ],
   "source": [
    "print(\"'binary' vectorized line:\", \n",
    "      binary_vectorize_text(first_question, first_label)[0])"
   ]
  },
  {
   "cell_type": "code",
   "execution_count": 18,
   "metadata": {},
   "outputs": [
    {
     "output_type": "stream",
     "name": "stdout",
     "text": [
      "'int' vectorized line: tf.Tensor(\n[[   4 7335   36    1    0    0    0    0    0    0    0    0    0    0\n     0    0    0    0    0    0    0    0    0    0    0    0    0    0\n     0    0    0    0    0    0    0    0    0    0    0    0    0    0\n     0    0    0    0    0    0    0    0    0    0    0    0    0    0\n     0    0    0    0    0    0    0    0    0    0    0    0    0    0\n     0    0    0    0    0    0    0    0    0    0    0    0    0    0\n     0    0    0    0    0    0    0    0    0    0    0    0    0    0\n     0    0    0    0    0    0    0    0    0    0    0    0    0    0\n     0    0    0    0    0    0    0    0    0    0    0    0    0    0\n     0    0    0    0    0    0    0    0    0    0    0    0    0    0\n     0    0    0    0    0    0    0    0    0    0    0    0    0    0\n     0    0    0    0    0    0    0    0    0    0    0    0    0    0\n     0    0    0    0    0    0    0    0    0    0    0    0    0    0\n     0    0    0    0    0    0    0    0    0    0    0    0    0    0\n     0    0    0    0    0    0    0    0    0    0    0    0    0    0\n     0    0    0    0    0    0    0    0    0    0    0    0    0    0\n     0    0    0    0    0    0    0    0    0    0    0    0    0    0\n     0    0    0    0    0    0    0    0    0    0    0    0]], shape=(1, 250), dtype=int64)\n"
     ]
    }
   ],
   "source": [
    "print(\"'int' vectorized line:\",\n",
    "      int_vectorize_text(first_question, first_label)[0])"
   ]
  },
  {
   "cell_type": "code",
   "execution_count": 19,
   "metadata": {},
   "outputs": [
    {
     "output_type": "stream",
     "name": "stdout",
     "text": [
      "1289 --->  ent\n313 --->  i)\nVocabulary size: 10000\n"
     ]
    }
   ],
   "source": [
    "print(\"1289 ---> \", int_vectorize_layer.get_vocabulary()[1289])\n",
    "print(\"313 ---> \", int_vectorize_layer.get_vocabulary()[313])\n",
    "print(\"Vocabulary size: {}\".format(len(int_vectorize_layer.get_vocabulary())))"
   ]
  },
  {
   "cell_type": "code",
   "execution_count": 20,
   "metadata": {},
   "outputs": [],
   "source": [
    "binary_train_ds = raw_train_ds.map(binary_vectorize_text)\n",
    "binary_val_ds = raw_val_ds.map(binary_vectorize_text)\n",
    "binary_test_ds = raw_test_ds.map(binary_vectorize_text)\n",
    "\n",
    "int_train_ds = raw_train_ds.map(int_vectorize_text)\n",
    "int_val_ds = raw_val_ds.map(int_vectorize_text)\n",
    "int_test_ds = raw_test_ds.map(int_vectorize_text)"
   ]
  },
  {
   "source": [
    "# Improving Performance of Dataset Usage through Tensorflow Preprocessing"
   ],
   "cell_type": "markdown",
   "metadata": {}
  },
  {
   "cell_type": "code",
   "execution_count": 21,
   "metadata": {},
   "outputs": [],
   "source": [
    "AUTOTUNE = tf.data.AUTOTUNE\n",
    "\n",
    "def configure_dataset(dataset):\n",
    "  return dataset.cache().prefetch(buffer_size=AUTOTUNE)"
   ]
  },
  {
   "cell_type": "code",
   "execution_count": 22,
   "metadata": {},
   "outputs": [],
   "source": [
    "binary_train_ds = configure_dataset(binary_train_ds)\n",
    "binary_val_ds = configure_dataset(binary_val_ds)\n",
    "binary_test_ds = configure_dataset(binary_test_ds)\n",
    "\n",
    "int_train_ds = configure_dataset(int_train_ds)\n",
    "int_val_ds = configure_dataset(int_val_ds)\n",
    "int_test_ds = configure_dataset(int_test_ds)"
   ]
  },
  {
   "source": [
    "# Evaluating Performance of Binary Layer with Simple Model"
   ],
   "cell_type": "markdown",
   "metadata": {}
  },
  {
   "cell_type": "code",
   "execution_count": 23,
   "metadata": {},
   "outputs": [
    {
     "output_type": "stream",
     "name": "stdout",
     "text": [
      "Epoch 1/10\n",
      "105/105 [==============================] - 2s 13ms/step - loss: 2.3209 - accuracy: 0.1819 - mse: 34.5984 - mean_squared_logarithmic_error: 2.9041 - mean_absolute_error: 4.9713 - cosine_similarity: -1.7049 - logcosh: 4.3469 - kullback_leibler_divergence: 129.6491 - val_loss: 2.1559 - val_accuracy: 0.3165 - val_mse: 38.8030 - val_mean_squared_logarithmic_error: 2.9681 - val_mean_absolute_error: 5.3811 - val_cosine_similarity: -2.0896 - val_logcosh: 4.7328 - val_kullback_leibler_divergence: 140.2314\n",
      "Epoch 2/10\n",
      "105/105 [==============================] - 0s 2ms/step - loss: 1.8960 - accuracy: 0.6892 - mse: 38.4370 - mean_squared_logarithmic_error: 2.8675 - mean_absolute_error: 5.3005 - cosine_similarity: -2.0351 - logcosh: 4.6625 - kullback_leibler_divergence: 135.9970 - val_loss: 2.0287 - val_accuracy: 0.4029 - val_mse: 41.8402 - val_mean_squared_logarithmic_error: 2.9579 - val_mean_absolute_error: 5.6208 - val_cosine_similarity: -2.1685 - val_logcosh: 4.9662 - val_kullback_leibler_divergence: 144.3291\n",
      "Epoch 3/10\n",
      "105/105 [==============================] - 0s 2ms/step - loss: 1.6322 - accuracy: 0.7593 - mse: 41.4260 - mean_squared_logarithmic_error: 2.8411 - mean_absolute_error: 5.5328 - cosine_similarity: -2.0793 - logcosh: 4.8868 - kullback_leibler_divergence: 138.3277 - val_loss: 1.9282 - val_accuracy: 0.4365 - val_mse: 44.6163 - val_mean_squared_logarithmic_error: 2.9472 - val_mean_absolute_error: 5.8262 - val_cosine_similarity: -2.2149 - val_logcosh: 5.1671 - val_kullback_leibler_divergence: 145.8091\n",
      "Epoch 4/10\n",
      "105/105 [==============================] - 0s 2ms/step - loss: 1.4283 - accuracy: 0.7780 - mse: 44.1884 - mean_squared_logarithmic_error: 2.8219 - mean_absolute_error: 5.7345 - cosine_similarity: -2.1050 - logcosh: 5.0827 - kullback_leibler_divergence: 139.3427 - val_loss: 1.8504 - val_accuracy: 0.4664 - val_mse: 47.1995 - val_mean_squared_logarithmic_error: 2.9371 - val_mean_absolute_error: 6.0069 - val_cosine_similarity: -2.2432 - val_logcosh: 5.3445 - val_kullback_leibler_divergence: 146.7281\n",
      "Epoch 5/10\n",
      "105/105 [==============================] - 0s 2ms/step - loss: 1.2710 - accuracy: 0.7928 - mse: 46.7676 - mean_squared_logarithmic_error: 2.8075 - mean_absolute_error: 5.9131 - cosine_similarity: -2.1219 - logcosh: 5.2569 - kullback_leibler_divergence: 139.8276 - val_loss: 1.7839 - val_accuracy: 0.4844 - val_mse: 49.6199 - val_mean_squared_logarithmic_error: 2.9293 - val_mean_absolute_error: 6.1684 - val_cosine_similarity: -2.2626 - val_logcosh: 5.5035 - val_kullback_leibler_divergence: 147.1460\n",
      "Epoch 6/10\n",
      "105/105 [==============================] - 0s 2ms/step - loss: 1.1454 - accuracy: 0.8056 - mse: 49.1862 - mean_squared_logarithmic_error: 2.7964 - mean_absolute_error: 6.0731 - cosine_similarity: -2.1342 - logcosh: 5.4136 - kullback_leibler_divergence: 140.1085 - val_loss: 1.7326 - val_accuracy: 0.4940 - val_mse: 51.9014 - val_mean_squared_logarithmic_error: 2.9224 - val_mean_absolute_error: 6.3141 - val_cosine_similarity: -2.2764 - val_logcosh: 5.6473 - val_kullback_leibler_divergence: 147.6982\n",
      "Epoch 7/10\n",
      "105/105 [==============================] - 0s 2ms/step - loss: 1.0450 - accuracy: 0.8012 - mse: 51.4659 - mean_squared_logarithmic_error: 2.7876 - mean_absolute_error: 6.2178 - cosine_similarity: -2.1435 - logcosh: 5.5559 - kullback_leibler_divergence: 140.3375 - val_loss: 1.6887 - val_accuracy: 0.5000 - val_mse: 54.0623 - val_mean_squared_logarithmic_error: 2.9165 - val_mean_absolute_error: 6.4471 - val_cosine_similarity: -2.2869 - val_logcosh: 5.7790 - val_kullback_leibler_divergence: 147.8528\n",
      "Epoch 8/10\n",
      "105/105 [==============================] - 0s 2ms/step - loss: 0.9621 - accuracy: 0.8057 - mse: 53.6230 - mean_squared_logarithmic_error: 2.7805 - mean_absolute_error: 6.3500 - cosine_similarity: -2.1509 - logcosh: 5.6862 - kullback_leibler_divergence: 140.3407 - val_loss: 1.6548 - val_accuracy: 0.5012 - val_mse: 56.1162 - val_mean_squared_logarithmic_error: 2.9114 - val_mean_absolute_error: 6.5693 - val_cosine_similarity: -2.2949 - val_logcosh: 5.9000 - val_kullback_leibler_divergence: 148.0369\n",
      "Epoch 9/10\n",
      "105/105 [==============================] - 0s 2ms/step - loss: 0.8936 - accuracy: 0.8064 - mse: 55.6737 - mean_squared_logarithmic_error: 2.7748 - mean_absolute_error: 6.4717 - cosine_similarity: -2.1570 - logcosh: 5.8065 - kullback_leibler_divergence: 140.4785 - val_loss: 1.6250 - val_accuracy: 0.5048 - val_mse: 58.0790 - val_mean_squared_logarithmic_error: 2.9071 - val_mean_absolute_error: 6.6826 - val_cosine_similarity: -2.3015 - val_logcosh: 6.0126 - val_kullback_leibler_divergence: 148.1996\n",
      "Epoch 10/10\n",
      "105/105 [==============================] - 0s 2ms/step - loss: 0.8351 - accuracy: 0.8070 - mse: 57.6307 - mean_squared_logarithmic_error: 2.7698 - mean_absolute_error: 6.5847 - cosine_similarity: -2.1621 - logcosh: 5.9183 - kullback_leibler_divergence: 140.4742 - val_loss: 1.6019 - val_accuracy: 0.5072 - val_mse: 59.9585 - val_mean_squared_logarithmic_error: 2.9032 - val_mean_absolute_error: 6.7882 - val_cosine_similarity: -2.3068 - val_logcosh: 6.1175 - val_kullback_leibler_divergence: 148.1371\n"
     ]
    }
   ],
   "source": [
    "binary_model = tf.keras.Sequential([layers.Dense(11)])\n",
    "binary_model.compile(\n",
    "    loss=losses.SparseCategoricalCrossentropy(from_logits=True),\n",
    "    optimizer='adam',\n",
    "    metrics=['accuracy', 'mse', 'mean_squared_logarithmic_error', 'mean_absolute_error','cosine_similarity',tf.keras.metrics.LogCoshError(name='logcosh', dtype=None), tf.keras.metrics.KLDivergence(name='kullback_leibler_divergence', dtype=None)])\n",
    "history = binary_model.fit(\n",
    "    binary_train_ds, validation_data=binary_val_ds, epochs=10)"
   ]
  },
  {
   "source": [
    "# Plotting Training and Validation Accuracy per Epoch for Binary Model"
   ],
   "cell_type": "markdown",
   "metadata": {}
  },
  {
   "cell_type": "code",
   "execution_count": 24,
   "metadata": {},
   "outputs": [
    {
     "output_type": "display_data",
     "data": {
      "text/plain": "<Figure size 432x288 with 1 Axes>",
      "image/svg+xml": "<?xml version=\"1.0\" encoding=\"utf-8\" standalone=\"no\"?>\n<!DOCTYPE svg PUBLIC \"-//W3C//DTD SVG 1.1//EN\"\n  \"http://www.w3.org/Graphics/SVG/1.1/DTD/svg11.dtd\">\n<!-- Created with matplotlib (https://matplotlib.org/) -->\n<svg height=\"277.314375pt\" version=\"1.1\" viewBox=\"0 0 385.78125 277.314375\" width=\"385.78125pt\" xmlns=\"http://www.w3.org/2000/svg\" xmlns:xlink=\"http://www.w3.org/1999/xlink\">\n <metadata>\n  <rdf:RDF xmlns:cc=\"http://creativecommons.org/ns#\" xmlns:dc=\"http://purl.org/dc/elements/1.1/\" xmlns:rdf=\"http://www.w3.org/1999/02/22-rdf-syntax-ns#\">\n   <cc:Work>\n    <dc:type rdf:resource=\"http://purl.org/dc/dcmitype/StillImage\"/>\n    <dc:date>2021-04-18T13:55:29.902769</dc:date>\n    <dc:format>image/svg+xml</dc:format>\n    <dc:creator>\n     <cc:Agent>\n      <dc:title>Matplotlib v3.3.3, https://matplotlib.org/</dc:title>\n     </cc:Agent>\n    </dc:creator>\n   </cc:Work>\n  </rdf:RDF>\n </metadata>\n <defs>\n  <style type=\"text/css\">*{stroke-linecap:butt;stroke-linejoin:round;}</style>\n </defs>\n <g id=\"figure_1\">\n  <g id=\"patch_1\">\n   <path d=\"M 0 277.314375 \nL 385.78125 277.314375 \nL 385.78125 0 \nL 0 0 \nz\n\" style=\"fill:none;\"/>\n  </g>\n  <g id=\"axes_1\">\n   <g id=\"patch_2\">\n    <path d=\"M 43.78125 239.758125 \nL 378.58125 239.758125 \nL 378.58125 22.318125 \nL 43.78125 22.318125 \nz\n\" style=\"fill:#ffffff;\"/>\n   </g>\n   <g id=\"matplotlib.axis_1\">\n    <g id=\"xtick_1\">\n     <g id=\"line2d_1\">\n      <defs>\n       <path d=\"M 0 0 \nL 0 3.5 \n\" id=\"m95b6942957\" style=\"stroke:#000000;stroke-width:0.8;\"/>\n      </defs>\n      <g>\n       <use style=\"stroke:#000000;stroke-width:0.8;\" x=\"58.999432\" xlink:href=\"#m95b6942957\" y=\"239.758125\"/>\n      </g>\n     </g>\n     <g id=\"text_1\">\n      <!-- 0 -->\n      <g transform=\"translate(55.818182 254.356562)scale(0.1 -0.1)\">\n       <defs>\n        <path d=\"M 31.78125 66.40625 \nQ 24.171875 66.40625 20.328125 58.90625 \nQ 16.5 51.421875 16.5 36.375 \nQ 16.5 21.390625 20.328125 13.890625 \nQ 24.171875 6.390625 31.78125 6.390625 \nQ 39.453125 6.390625 43.28125 13.890625 \nQ 47.125 21.390625 47.125 36.375 \nQ 47.125 51.421875 43.28125 58.90625 \nQ 39.453125 66.40625 31.78125 66.40625 \nz\nM 31.78125 74.21875 \nQ 44.046875 74.21875 50.515625 64.515625 \nQ 56.984375 54.828125 56.984375 36.375 \nQ 56.984375 17.96875 50.515625 8.265625 \nQ 44.046875 -1.421875 31.78125 -1.421875 \nQ 19.53125 -1.421875 13.0625 8.265625 \nQ 6.59375 17.96875 6.59375 36.375 \nQ 6.59375 54.828125 13.0625 64.515625 \nQ 19.53125 74.21875 31.78125 74.21875 \nz\n\" id=\"DejaVuSans-48\"/>\n       </defs>\n       <use xlink:href=\"#DejaVuSans-48\"/>\n      </g>\n     </g>\n    </g>\n    <g id=\"xtick_2\">\n     <g id=\"line2d_2\">\n      <g>\n       <use style=\"stroke:#000000;stroke-width:0.8;\" x=\"126.635795\" xlink:href=\"#m95b6942957\" y=\"239.758125\"/>\n      </g>\n     </g>\n     <g id=\"text_2\">\n      <!-- 2 -->\n      <g transform=\"translate(123.454545 254.356562)scale(0.1 -0.1)\">\n       <defs>\n        <path d=\"M 19.1875 8.296875 \nL 53.609375 8.296875 \nL 53.609375 0 \nL 7.328125 0 \nL 7.328125 8.296875 \nQ 12.9375 14.109375 22.625 23.890625 \nQ 32.328125 33.6875 34.8125 36.53125 \nQ 39.546875 41.84375 41.421875 45.53125 \nQ 43.3125 49.21875 43.3125 52.78125 \nQ 43.3125 58.59375 39.234375 62.25 \nQ 35.15625 65.921875 28.609375 65.921875 \nQ 23.96875 65.921875 18.8125 64.3125 \nQ 13.671875 62.703125 7.8125 59.421875 \nL 7.8125 69.390625 \nQ 13.765625 71.78125 18.9375 73 \nQ 24.125 74.21875 28.421875 74.21875 \nQ 39.75 74.21875 46.484375 68.546875 \nQ 53.21875 62.890625 53.21875 53.421875 \nQ 53.21875 48.921875 51.53125 44.890625 \nQ 49.859375 40.875 45.40625 35.40625 \nQ 44.1875 33.984375 37.640625 27.21875 \nQ 31.109375 20.453125 19.1875 8.296875 \nz\n\" id=\"DejaVuSans-50\"/>\n       </defs>\n       <use xlink:href=\"#DejaVuSans-50\"/>\n      </g>\n     </g>\n    </g>\n    <g id=\"xtick_3\">\n     <g id=\"line2d_3\">\n      <g>\n       <use style=\"stroke:#000000;stroke-width:0.8;\" x=\"194.272159\" xlink:href=\"#m95b6942957\" y=\"239.758125\"/>\n      </g>\n     </g>\n     <g id=\"text_3\">\n      <!-- 4 -->\n      <g transform=\"translate(191.090909 254.356562)scale(0.1 -0.1)\">\n       <defs>\n        <path d=\"M 37.796875 64.3125 \nL 12.890625 25.390625 \nL 37.796875 25.390625 \nz\nM 35.203125 72.90625 \nL 47.609375 72.90625 \nL 47.609375 25.390625 \nL 58.015625 25.390625 \nL 58.015625 17.1875 \nL 47.609375 17.1875 \nL 47.609375 0 \nL 37.796875 0 \nL 37.796875 17.1875 \nL 4.890625 17.1875 \nL 4.890625 26.703125 \nz\n\" id=\"DejaVuSans-52\"/>\n       </defs>\n       <use xlink:href=\"#DejaVuSans-52\"/>\n      </g>\n     </g>\n    </g>\n    <g id=\"xtick_4\">\n     <g id=\"line2d_4\">\n      <g>\n       <use style=\"stroke:#000000;stroke-width:0.8;\" x=\"261.908523\" xlink:href=\"#m95b6942957\" y=\"239.758125\"/>\n      </g>\n     </g>\n     <g id=\"text_4\">\n      <!-- 6 -->\n      <g transform=\"translate(258.727273 254.356562)scale(0.1 -0.1)\">\n       <defs>\n        <path d=\"M 33.015625 40.375 \nQ 26.375 40.375 22.484375 35.828125 \nQ 18.609375 31.296875 18.609375 23.390625 \nQ 18.609375 15.53125 22.484375 10.953125 \nQ 26.375 6.390625 33.015625 6.390625 \nQ 39.65625 6.390625 43.53125 10.953125 \nQ 47.40625 15.53125 47.40625 23.390625 \nQ 47.40625 31.296875 43.53125 35.828125 \nQ 39.65625 40.375 33.015625 40.375 \nz\nM 52.59375 71.296875 \nL 52.59375 62.3125 \nQ 48.875 64.0625 45.09375 64.984375 \nQ 41.3125 65.921875 37.59375 65.921875 \nQ 27.828125 65.921875 22.671875 59.328125 \nQ 17.53125 52.734375 16.796875 39.40625 \nQ 19.671875 43.65625 24.015625 45.921875 \nQ 28.375 48.1875 33.59375 48.1875 \nQ 44.578125 48.1875 50.953125 41.515625 \nQ 57.328125 34.859375 57.328125 23.390625 \nQ 57.328125 12.15625 50.6875 5.359375 \nQ 44.046875 -1.421875 33.015625 -1.421875 \nQ 20.359375 -1.421875 13.671875 8.265625 \nQ 6.984375 17.96875 6.984375 36.375 \nQ 6.984375 53.65625 15.1875 63.9375 \nQ 23.390625 74.21875 37.203125 74.21875 \nQ 40.921875 74.21875 44.703125 73.484375 \nQ 48.484375 72.75 52.59375 71.296875 \nz\n\" id=\"DejaVuSans-54\"/>\n       </defs>\n       <use xlink:href=\"#DejaVuSans-54\"/>\n      </g>\n     </g>\n    </g>\n    <g id=\"xtick_5\">\n     <g id=\"line2d_5\">\n      <g>\n       <use style=\"stroke:#000000;stroke-width:0.8;\" x=\"329.544886\" xlink:href=\"#m95b6942957\" y=\"239.758125\"/>\n      </g>\n     </g>\n     <g id=\"text_5\">\n      <!-- 8 -->\n      <g transform=\"translate(326.363636 254.356562)scale(0.1 -0.1)\">\n       <defs>\n        <path d=\"M 31.78125 34.625 \nQ 24.75 34.625 20.71875 30.859375 \nQ 16.703125 27.09375 16.703125 20.515625 \nQ 16.703125 13.921875 20.71875 10.15625 \nQ 24.75 6.390625 31.78125 6.390625 \nQ 38.8125 6.390625 42.859375 10.171875 \nQ 46.921875 13.96875 46.921875 20.515625 \nQ 46.921875 27.09375 42.890625 30.859375 \nQ 38.875 34.625 31.78125 34.625 \nz\nM 21.921875 38.8125 \nQ 15.578125 40.375 12.03125 44.71875 \nQ 8.5 49.078125 8.5 55.328125 \nQ 8.5 64.0625 14.71875 69.140625 \nQ 20.953125 74.21875 31.78125 74.21875 \nQ 42.671875 74.21875 48.875 69.140625 \nQ 55.078125 64.0625 55.078125 55.328125 \nQ 55.078125 49.078125 51.53125 44.71875 \nQ 48 40.375 41.703125 38.8125 \nQ 48.828125 37.15625 52.796875 32.3125 \nQ 56.78125 27.484375 56.78125 20.515625 \nQ 56.78125 9.90625 50.3125 4.234375 \nQ 43.84375 -1.421875 31.78125 -1.421875 \nQ 19.734375 -1.421875 13.25 4.234375 \nQ 6.78125 9.90625 6.78125 20.515625 \nQ 6.78125 27.484375 10.78125 32.3125 \nQ 14.796875 37.15625 21.921875 38.8125 \nz\nM 18.3125 54.390625 \nQ 18.3125 48.734375 21.84375 45.5625 \nQ 25.390625 42.390625 31.78125 42.390625 \nQ 38.140625 42.390625 41.71875 45.5625 \nQ 45.3125 48.734375 45.3125 54.390625 \nQ 45.3125 60.0625 41.71875 63.234375 \nQ 38.140625 66.40625 31.78125 66.40625 \nQ 25.390625 66.40625 21.84375 63.234375 \nQ 18.3125 60.0625 18.3125 54.390625 \nz\n\" id=\"DejaVuSans-56\"/>\n       </defs>\n       <use xlink:href=\"#DejaVuSans-56\"/>\n      </g>\n     </g>\n    </g>\n    <g id=\"text_6\">\n     <!-- Epoch -->\n     <g transform=\"translate(195.870313 268.034687)scale(0.1 -0.1)\">\n      <defs>\n       <path d=\"M 9.8125 72.90625 \nL 55.90625 72.90625 \nL 55.90625 64.59375 \nL 19.671875 64.59375 \nL 19.671875 43.015625 \nL 54.390625 43.015625 \nL 54.390625 34.71875 \nL 19.671875 34.71875 \nL 19.671875 8.296875 \nL 56.78125 8.296875 \nL 56.78125 0 \nL 9.8125 0 \nz\n\" id=\"DejaVuSans-69\"/>\n       <path d=\"M 18.109375 8.203125 \nL 18.109375 -20.796875 \nL 9.078125 -20.796875 \nL 9.078125 54.6875 \nL 18.109375 54.6875 \nL 18.109375 46.390625 \nQ 20.953125 51.265625 25.265625 53.625 \nQ 29.59375 56 35.59375 56 \nQ 45.5625 56 51.78125 48.09375 \nQ 58.015625 40.1875 58.015625 27.296875 \nQ 58.015625 14.40625 51.78125 6.484375 \nQ 45.5625 -1.421875 35.59375 -1.421875 \nQ 29.59375 -1.421875 25.265625 0.953125 \nQ 20.953125 3.328125 18.109375 8.203125 \nz\nM 48.6875 27.296875 \nQ 48.6875 37.203125 44.609375 42.84375 \nQ 40.53125 48.484375 33.40625 48.484375 \nQ 26.265625 48.484375 22.1875 42.84375 \nQ 18.109375 37.203125 18.109375 27.296875 \nQ 18.109375 17.390625 22.1875 11.75 \nQ 26.265625 6.109375 33.40625 6.109375 \nQ 40.53125 6.109375 44.609375 11.75 \nQ 48.6875 17.390625 48.6875 27.296875 \nz\n\" id=\"DejaVuSans-112\"/>\n       <path d=\"M 30.609375 48.390625 \nQ 23.390625 48.390625 19.1875 42.75 \nQ 14.984375 37.109375 14.984375 27.296875 \nQ 14.984375 17.484375 19.15625 11.84375 \nQ 23.34375 6.203125 30.609375 6.203125 \nQ 37.796875 6.203125 41.984375 11.859375 \nQ 46.1875 17.53125 46.1875 27.296875 \nQ 46.1875 37.015625 41.984375 42.703125 \nQ 37.796875 48.390625 30.609375 48.390625 \nz\nM 30.609375 56 \nQ 42.328125 56 49.015625 48.375 \nQ 55.71875 40.765625 55.71875 27.296875 \nQ 55.71875 13.875 49.015625 6.21875 \nQ 42.328125 -1.421875 30.609375 -1.421875 \nQ 18.84375 -1.421875 12.171875 6.21875 \nQ 5.515625 13.875 5.515625 27.296875 \nQ 5.515625 40.765625 12.171875 48.375 \nQ 18.84375 56 30.609375 56 \nz\n\" id=\"DejaVuSans-111\"/>\n       <path d=\"M 48.78125 52.59375 \nL 48.78125 44.1875 \nQ 44.96875 46.296875 41.140625 47.34375 \nQ 37.3125 48.390625 33.40625 48.390625 \nQ 24.65625 48.390625 19.8125 42.84375 \nQ 14.984375 37.3125 14.984375 27.296875 \nQ 14.984375 17.28125 19.8125 11.734375 \nQ 24.65625 6.203125 33.40625 6.203125 \nQ 37.3125 6.203125 41.140625 7.25 \nQ 44.96875 8.296875 48.78125 10.40625 \nL 48.78125 2.09375 \nQ 45.015625 0.34375 40.984375 -0.53125 \nQ 36.96875 -1.421875 32.421875 -1.421875 \nQ 20.0625 -1.421875 12.78125 6.34375 \nQ 5.515625 14.109375 5.515625 27.296875 \nQ 5.515625 40.671875 12.859375 48.328125 \nQ 20.21875 56 33.015625 56 \nQ 37.15625 56 41.109375 55.140625 \nQ 45.0625 54.296875 48.78125 52.59375 \nz\n\" id=\"DejaVuSans-99\"/>\n       <path d=\"M 54.890625 33.015625 \nL 54.890625 0 \nL 45.90625 0 \nL 45.90625 32.71875 \nQ 45.90625 40.484375 42.875 44.328125 \nQ 39.84375 48.1875 33.796875 48.1875 \nQ 26.515625 48.1875 22.3125 43.546875 \nQ 18.109375 38.921875 18.109375 30.90625 \nL 18.109375 0 \nL 9.078125 0 \nL 9.078125 75.984375 \nL 18.109375 75.984375 \nL 18.109375 46.1875 \nQ 21.34375 51.125 25.703125 53.5625 \nQ 30.078125 56 35.796875 56 \nQ 45.21875 56 50.046875 50.171875 \nQ 54.890625 44.34375 54.890625 33.015625 \nz\n\" id=\"DejaVuSans-104\"/>\n      </defs>\n      <use xlink:href=\"#DejaVuSans-69\"/>\n      <use x=\"63.183594\" xlink:href=\"#DejaVuSans-112\"/>\n      <use x=\"126.660156\" xlink:href=\"#DejaVuSans-111\"/>\n      <use x=\"187.841797\" xlink:href=\"#DejaVuSans-99\"/>\n      <use x=\"242.822266\" xlink:href=\"#DejaVuSans-104\"/>\n     </g>\n    </g>\n   </g>\n   <g id=\"matplotlib.axis_2\">\n    <g id=\"ytick_1\">\n     <g id=\"line2d_6\">\n      <defs>\n       <path d=\"M 0 0 \nL -3.5 0 \n\" id=\"m3e5a17f43c\" style=\"stroke:#000000;stroke-width:0.8;\"/>\n      </defs>\n      <g>\n       <use style=\"stroke:#000000;stroke-width:0.8;\" x=\"43.78125\" xlink:href=\"#m3e5a17f43c\" y=\"238.350597\"/>\n      </g>\n     </g>\n     <g id=\"text_7\">\n      <!-- 0.2 -->\n      <g transform=\"translate(20.878125 242.149816)scale(0.1 -0.1)\">\n       <defs>\n        <path d=\"M 10.6875 12.40625 \nL 21 12.40625 \nL 21 0 \nL 10.6875 0 \nz\n\" id=\"DejaVuSans-46\"/>\n       </defs>\n       <use xlink:href=\"#DejaVuSans-48\"/>\n       <use x=\"63.623047\" xlink:href=\"#DejaVuSans-46\"/>\n       <use x=\"95.410156\" xlink:href=\"#DejaVuSans-50\"/>\n      </g>\n     </g>\n    </g>\n    <g id=\"ytick_2\">\n     <g id=\"line2d_7\">\n      <g>\n       <use style=\"stroke:#000000;stroke-width:0.8;\" x=\"43.78125\" xlink:href=\"#m3e5a17f43c\" y=\"203.920276\"/>\n      </g>\n     </g>\n     <g id=\"text_8\">\n      <!-- 0.3 -->\n      <g transform=\"translate(20.878125 207.719495)scale(0.1 -0.1)\">\n       <defs>\n        <path d=\"M 40.578125 39.3125 \nQ 47.65625 37.796875 51.625 33 \nQ 55.609375 28.21875 55.609375 21.1875 \nQ 55.609375 10.40625 48.1875 4.484375 \nQ 40.765625 -1.421875 27.09375 -1.421875 \nQ 22.515625 -1.421875 17.65625 -0.515625 \nQ 12.796875 0.390625 7.625 2.203125 \nL 7.625 11.71875 \nQ 11.71875 9.328125 16.59375 8.109375 \nQ 21.484375 6.890625 26.8125 6.890625 \nQ 36.078125 6.890625 40.9375 10.546875 \nQ 45.796875 14.203125 45.796875 21.1875 \nQ 45.796875 27.640625 41.28125 31.265625 \nQ 36.765625 34.90625 28.71875 34.90625 \nL 20.21875 34.90625 \nL 20.21875 43.015625 \nL 29.109375 43.015625 \nQ 36.375 43.015625 40.234375 45.921875 \nQ 44.09375 48.828125 44.09375 54.296875 \nQ 44.09375 59.90625 40.109375 62.90625 \nQ 36.140625 65.921875 28.71875 65.921875 \nQ 24.65625 65.921875 20.015625 65.03125 \nQ 15.375 64.15625 9.8125 62.3125 \nL 9.8125 71.09375 \nQ 15.4375 72.65625 20.34375 73.4375 \nQ 25.25 74.21875 29.59375 74.21875 \nQ 40.828125 74.21875 47.359375 69.109375 \nQ 53.90625 64.015625 53.90625 55.328125 \nQ 53.90625 49.265625 50.4375 45.09375 \nQ 46.96875 40.921875 40.578125 39.3125 \nz\n\" id=\"DejaVuSans-51\"/>\n       </defs>\n       <use xlink:href=\"#DejaVuSans-48\"/>\n       <use x=\"63.623047\" xlink:href=\"#DejaVuSans-46\"/>\n       <use x=\"95.410156\" xlink:href=\"#DejaVuSans-51\"/>\n      </g>\n     </g>\n    </g>\n    <g id=\"ytick_3\">\n     <g id=\"line2d_8\">\n      <g>\n       <use style=\"stroke:#000000;stroke-width:0.8;\" x=\"43.78125\" xlink:href=\"#m3e5a17f43c\" y=\"169.489954\"/>\n      </g>\n     </g>\n     <g id=\"text_9\">\n      <!-- 0.4 -->\n      <g transform=\"translate(20.878125 173.289173)scale(0.1 -0.1)\">\n       <use xlink:href=\"#DejaVuSans-48\"/>\n       <use x=\"63.623047\" xlink:href=\"#DejaVuSans-46\"/>\n       <use x=\"95.410156\" xlink:href=\"#DejaVuSans-52\"/>\n      </g>\n     </g>\n    </g>\n    <g id=\"ytick_4\">\n     <g id=\"line2d_9\">\n      <g>\n       <use style=\"stroke:#000000;stroke-width:0.8;\" x=\"43.78125\" xlink:href=\"#m3e5a17f43c\" y=\"135.059633\"/>\n      </g>\n     </g>\n     <g id=\"text_10\">\n      <!-- 0.5 -->\n      <g transform=\"translate(20.878125 138.858851)scale(0.1 -0.1)\">\n       <defs>\n        <path d=\"M 10.796875 72.90625 \nL 49.515625 72.90625 \nL 49.515625 64.59375 \nL 19.828125 64.59375 \nL 19.828125 46.734375 \nQ 21.96875 47.46875 24.109375 47.828125 \nQ 26.265625 48.1875 28.421875 48.1875 \nQ 40.625 48.1875 47.75 41.5 \nQ 54.890625 34.8125 54.890625 23.390625 \nQ 54.890625 11.625 47.5625 5.09375 \nQ 40.234375 -1.421875 26.90625 -1.421875 \nQ 22.3125 -1.421875 17.546875 -0.640625 \nQ 12.796875 0.140625 7.71875 1.703125 \nL 7.71875 11.625 \nQ 12.109375 9.234375 16.796875 8.0625 \nQ 21.484375 6.890625 26.703125 6.890625 \nQ 35.15625 6.890625 40.078125 11.328125 \nQ 45.015625 15.765625 45.015625 23.390625 \nQ 45.015625 31 40.078125 35.4375 \nQ 35.15625 39.890625 26.703125 39.890625 \nQ 22.75 39.890625 18.8125 39.015625 \nQ 14.890625 38.140625 10.796875 36.28125 \nz\n\" id=\"DejaVuSans-53\"/>\n       </defs>\n       <use xlink:href=\"#DejaVuSans-48\"/>\n       <use x=\"63.623047\" xlink:href=\"#DejaVuSans-46\"/>\n       <use x=\"95.410156\" xlink:href=\"#DejaVuSans-53\"/>\n      </g>\n     </g>\n    </g>\n    <g id=\"ytick_5\">\n     <g id=\"line2d_10\">\n      <g>\n       <use style=\"stroke:#000000;stroke-width:0.8;\" x=\"43.78125\" xlink:href=\"#m3e5a17f43c\" y=\"100.629311\"/>\n      </g>\n     </g>\n     <g id=\"text_11\">\n      <!-- 0.6 -->\n      <g transform=\"translate(20.878125 104.42853)scale(0.1 -0.1)\">\n       <use xlink:href=\"#DejaVuSans-48\"/>\n       <use x=\"63.623047\" xlink:href=\"#DejaVuSans-46\"/>\n       <use x=\"95.410156\" xlink:href=\"#DejaVuSans-54\"/>\n      </g>\n     </g>\n    </g>\n    <g id=\"ytick_6\">\n     <g id=\"line2d_11\">\n      <g>\n       <use style=\"stroke:#000000;stroke-width:0.8;\" x=\"43.78125\" xlink:href=\"#m3e5a17f43c\" y=\"66.198989\"/>\n      </g>\n     </g>\n     <g id=\"text_12\">\n      <!-- 0.7 -->\n      <g transform=\"translate(20.878125 69.998208)scale(0.1 -0.1)\">\n       <defs>\n        <path d=\"M 8.203125 72.90625 \nL 55.078125 72.90625 \nL 55.078125 68.703125 \nL 28.609375 0 \nL 18.3125 0 \nL 43.21875 64.59375 \nL 8.203125 64.59375 \nz\n\" id=\"DejaVuSans-55\"/>\n       </defs>\n       <use xlink:href=\"#DejaVuSans-48\"/>\n       <use x=\"63.623047\" xlink:href=\"#DejaVuSans-46\"/>\n       <use x=\"95.410156\" xlink:href=\"#DejaVuSans-55\"/>\n      </g>\n     </g>\n    </g>\n    <g id=\"ytick_7\">\n     <g id=\"line2d_12\">\n      <g>\n       <use style=\"stroke:#000000;stroke-width:0.8;\" x=\"43.78125\" xlink:href=\"#m3e5a17f43c\" y=\"31.768668\"/>\n      </g>\n     </g>\n     <g id=\"text_13\">\n      <!-- 0.8 -->\n      <g transform=\"translate(20.878125 35.567886)scale(0.1 -0.1)\">\n       <use xlink:href=\"#DejaVuSans-48\"/>\n       <use x=\"63.623047\" xlink:href=\"#DejaVuSans-46\"/>\n       <use x=\"95.410156\" xlink:href=\"#DejaVuSans-56\"/>\n      </g>\n     </g>\n    </g>\n    <g id=\"text_14\">\n     <!-- Accuracy -->\n     <g transform=\"translate(14.798438 153.86625)rotate(-90)scale(0.1 -0.1)\">\n      <defs>\n       <path d=\"M 34.1875 63.1875 \nL 20.796875 26.90625 \nL 47.609375 26.90625 \nz\nM 28.609375 72.90625 \nL 39.796875 72.90625 \nL 67.578125 0 \nL 57.328125 0 \nL 50.6875 18.703125 \nL 17.828125 18.703125 \nL 11.1875 0 \nL 0.78125 0 \nz\n\" id=\"DejaVuSans-65\"/>\n       <path d=\"M 8.5 21.578125 \nL 8.5 54.6875 \nL 17.484375 54.6875 \nL 17.484375 21.921875 \nQ 17.484375 14.15625 20.5 10.265625 \nQ 23.53125 6.390625 29.59375 6.390625 \nQ 36.859375 6.390625 41.078125 11.03125 \nQ 45.3125 15.671875 45.3125 23.6875 \nL 45.3125 54.6875 \nL 54.296875 54.6875 \nL 54.296875 0 \nL 45.3125 0 \nL 45.3125 8.40625 \nQ 42.046875 3.421875 37.71875 1 \nQ 33.40625 -1.421875 27.6875 -1.421875 \nQ 18.265625 -1.421875 13.375 4.4375 \nQ 8.5 10.296875 8.5 21.578125 \nz\nM 31.109375 56 \nz\n\" id=\"DejaVuSans-117\"/>\n       <path d=\"M 41.109375 46.296875 \nQ 39.59375 47.171875 37.8125 47.578125 \nQ 36.03125 48 33.890625 48 \nQ 26.265625 48 22.1875 43.046875 \nQ 18.109375 38.09375 18.109375 28.8125 \nL 18.109375 0 \nL 9.078125 0 \nL 9.078125 54.6875 \nL 18.109375 54.6875 \nL 18.109375 46.1875 \nQ 20.953125 51.171875 25.484375 53.578125 \nQ 30.03125 56 36.53125 56 \nQ 37.453125 56 38.578125 55.875 \nQ 39.703125 55.765625 41.0625 55.515625 \nz\n\" id=\"DejaVuSans-114\"/>\n       <path d=\"M 34.28125 27.484375 \nQ 23.390625 27.484375 19.1875 25 \nQ 14.984375 22.515625 14.984375 16.5 \nQ 14.984375 11.71875 18.140625 8.90625 \nQ 21.296875 6.109375 26.703125 6.109375 \nQ 34.1875 6.109375 38.703125 11.40625 \nQ 43.21875 16.703125 43.21875 25.484375 \nL 43.21875 27.484375 \nz\nM 52.203125 31.203125 \nL 52.203125 0 \nL 43.21875 0 \nL 43.21875 8.296875 \nQ 40.140625 3.328125 35.546875 0.953125 \nQ 30.953125 -1.421875 24.3125 -1.421875 \nQ 15.921875 -1.421875 10.953125 3.296875 \nQ 6 8.015625 6 15.921875 \nQ 6 25.140625 12.171875 29.828125 \nQ 18.359375 34.515625 30.609375 34.515625 \nL 43.21875 34.515625 \nL 43.21875 35.40625 \nQ 43.21875 41.609375 39.140625 45 \nQ 35.0625 48.390625 27.6875 48.390625 \nQ 23 48.390625 18.546875 47.265625 \nQ 14.109375 46.140625 10.015625 43.890625 \nL 10.015625 52.203125 \nQ 14.9375 54.109375 19.578125 55.046875 \nQ 24.21875 56 28.609375 56 \nQ 40.484375 56 46.34375 49.84375 \nQ 52.203125 43.703125 52.203125 31.203125 \nz\n\" id=\"DejaVuSans-97\"/>\n       <path d=\"M 32.171875 -5.078125 \nQ 28.375 -14.84375 24.75 -17.8125 \nQ 21.140625 -20.796875 15.09375 -20.796875 \nL 7.90625 -20.796875 \nL 7.90625 -13.28125 \nL 13.1875 -13.28125 \nQ 16.890625 -13.28125 18.9375 -11.515625 \nQ 21 -9.765625 23.484375 -3.21875 \nL 25.09375 0.875 \nL 2.984375 54.6875 \nL 12.5 54.6875 \nL 29.59375 11.921875 \nL 46.6875 54.6875 \nL 56.203125 54.6875 \nz\n\" id=\"DejaVuSans-121\"/>\n      </defs>\n      <use xlink:href=\"#DejaVuSans-65\"/>\n      <use x=\"66.658203\" xlink:href=\"#DejaVuSans-99\"/>\n      <use x=\"121.638672\" xlink:href=\"#DejaVuSans-99\"/>\n      <use x=\"176.619141\" xlink:href=\"#DejaVuSans-117\"/>\n      <use x=\"239.998047\" xlink:href=\"#DejaVuSans-114\"/>\n      <use x=\"281.111328\" xlink:href=\"#DejaVuSans-97\"/>\n      <use x=\"342.390625\" xlink:href=\"#DejaVuSans-99\"/>\n      <use x=\"397.371094\" xlink:href=\"#DejaVuSans-121\"/>\n     </g>\n    </g>\n   </g>\n   <g id=\"line2d_13\">\n    <path clip-path=\"url(#p32cb8b9575)\" d=\"M 58.999432 229.874489 \nL 92.817614 83.965812 \nL 126.635795 56.433935 \nL 160.453977 47.669103 \nL 194.272159 41.79152 \nL 228.090341 38.079344 \nL 261.908523 36.223266 \nL 295.726705 34.264065 \nL 329.544886 33.026687 \nL 363.363068 32.201761 \n\" style=\"fill:none;stroke:#0000ff;stroke-linecap:square;stroke-width:1.5;\"/>\n   </g>\n   <g id=\"line2d_14\">\n    <path clip-path=\"url(#p32cb8b9575)\" d=\"M 58.999432 198.22317 \nL 92.817614 168.499157 \nL 126.635795 156.939813 \nL 160.453977 146.618976 \nL 194.272159 140.426472 \nL 228.090341 137.123804 \nL 261.908523 135.059633 \nL 295.726705 134.64679 \nL 329.544886 133.408304 \nL 363.363068 132.582639 \n\" style=\"fill:none;stroke:#ffa500;stroke-linecap:square;stroke-width:1.5;\"/>\n   </g>\n   <g id=\"patch_3\">\n    <path d=\"M 43.78125 239.758125 \nL 43.78125 22.318125 \n\" style=\"fill:none;stroke:#000000;stroke-linecap:square;stroke-linejoin:miter;stroke-width:0.8;\"/>\n   </g>\n   <g id=\"patch_4\">\n    <path d=\"M 378.58125 239.758125 \nL 378.58125 22.318125 \n\" style=\"fill:none;stroke:#000000;stroke-linecap:square;stroke-linejoin:miter;stroke-width:0.8;\"/>\n   </g>\n   <g id=\"patch_5\">\n    <path d=\"M 43.78125 239.758125 \nL 378.58125 239.758125 \n\" style=\"fill:none;stroke:#000000;stroke-linecap:square;stroke-linejoin:miter;stroke-width:0.8;\"/>\n   </g>\n   <g id=\"patch_6\">\n    <path d=\"M 43.78125 22.318125 \nL 378.58125 22.318125 \n\" style=\"fill:none;stroke:#000000;stroke-linecap:square;stroke-linejoin:miter;stroke-width:0.8;\"/>\n   </g>\n   <g id=\"text_15\">\n    <!-- Training and validation accuracy -->\n    <g transform=\"translate(113.889375 16.318125)scale(0.12 -0.12)\">\n     <defs>\n      <path d=\"M -0.296875 72.90625 \nL 61.375 72.90625 \nL 61.375 64.59375 \nL 35.5 64.59375 \nL 35.5 0 \nL 25.59375 0 \nL 25.59375 64.59375 \nL -0.296875 64.59375 \nz\n\" id=\"DejaVuSans-84\"/>\n      <path d=\"M 9.421875 54.6875 \nL 18.40625 54.6875 \nL 18.40625 0 \nL 9.421875 0 \nz\nM 9.421875 75.984375 \nL 18.40625 75.984375 \nL 18.40625 64.59375 \nL 9.421875 64.59375 \nz\n\" id=\"DejaVuSans-105\"/>\n      <path d=\"M 54.890625 33.015625 \nL 54.890625 0 \nL 45.90625 0 \nL 45.90625 32.71875 \nQ 45.90625 40.484375 42.875 44.328125 \nQ 39.84375 48.1875 33.796875 48.1875 \nQ 26.515625 48.1875 22.3125 43.546875 \nQ 18.109375 38.921875 18.109375 30.90625 \nL 18.109375 0 \nL 9.078125 0 \nL 9.078125 54.6875 \nL 18.109375 54.6875 \nL 18.109375 46.1875 \nQ 21.34375 51.125 25.703125 53.5625 \nQ 30.078125 56 35.796875 56 \nQ 45.21875 56 50.046875 50.171875 \nQ 54.890625 44.34375 54.890625 33.015625 \nz\n\" id=\"DejaVuSans-110\"/>\n      <path d=\"M 45.40625 27.984375 \nQ 45.40625 37.75 41.375 43.109375 \nQ 37.359375 48.484375 30.078125 48.484375 \nQ 22.859375 48.484375 18.828125 43.109375 \nQ 14.796875 37.75 14.796875 27.984375 \nQ 14.796875 18.265625 18.828125 12.890625 \nQ 22.859375 7.515625 30.078125 7.515625 \nQ 37.359375 7.515625 41.375 12.890625 \nQ 45.40625 18.265625 45.40625 27.984375 \nz\nM 54.390625 6.78125 \nQ 54.390625 -7.171875 48.1875 -13.984375 \nQ 42 -20.796875 29.203125 -20.796875 \nQ 24.46875 -20.796875 20.265625 -20.09375 \nQ 16.0625 -19.390625 12.109375 -17.921875 \nL 12.109375 -9.1875 \nQ 16.0625 -11.328125 19.921875 -12.34375 \nQ 23.78125 -13.375 27.78125 -13.375 \nQ 36.625 -13.375 41.015625 -8.765625 \nQ 45.40625 -4.15625 45.40625 5.171875 \nL 45.40625 9.625 \nQ 42.625 4.78125 38.28125 2.390625 \nQ 33.9375 0 27.875 0 \nQ 17.828125 0 11.671875 7.65625 \nQ 5.515625 15.328125 5.515625 27.984375 \nQ 5.515625 40.671875 11.671875 48.328125 \nQ 17.828125 56 27.875 56 \nQ 33.9375 56 38.28125 53.609375 \nQ 42.625 51.21875 45.40625 46.390625 \nL 45.40625 54.6875 \nL 54.390625 54.6875 \nz\n\" id=\"DejaVuSans-103\"/>\n      <path id=\"DejaVuSans-32\"/>\n      <path d=\"M 45.40625 46.390625 \nL 45.40625 75.984375 \nL 54.390625 75.984375 \nL 54.390625 0 \nL 45.40625 0 \nL 45.40625 8.203125 \nQ 42.578125 3.328125 38.25 0.953125 \nQ 33.9375 -1.421875 27.875 -1.421875 \nQ 17.96875 -1.421875 11.734375 6.484375 \nQ 5.515625 14.40625 5.515625 27.296875 \nQ 5.515625 40.1875 11.734375 48.09375 \nQ 17.96875 56 27.875 56 \nQ 33.9375 56 38.25 53.625 \nQ 42.578125 51.265625 45.40625 46.390625 \nz\nM 14.796875 27.296875 \nQ 14.796875 17.390625 18.875 11.75 \nQ 22.953125 6.109375 30.078125 6.109375 \nQ 37.203125 6.109375 41.296875 11.75 \nQ 45.40625 17.390625 45.40625 27.296875 \nQ 45.40625 37.203125 41.296875 42.84375 \nQ 37.203125 48.484375 30.078125 48.484375 \nQ 22.953125 48.484375 18.875 42.84375 \nQ 14.796875 37.203125 14.796875 27.296875 \nz\n\" id=\"DejaVuSans-100\"/>\n      <path d=\"M 2.984375 54.6875 \nL 12.5 54.6875 \nL 29.59375 8.796875 \nL 46.6875 54.6875 \nL 56.203125 54.6875 \nL 35.6875 0 \nL 23.484375 0 \nz\n\" id=\"DejaVuSans-118\"/>\n      <path d=\"M 9.421875 75.984375 \nL 18.40625 75.984375 \nL 18.40625 0 \nL 9.421875 0 \nz\n\" id=\"DejaVuSans-108\"/>\n      <path d=\"M 18.3125 70.21875 \nL 18.3125 54.6875 \nL 36.8125 54.6875 \nL 36.8125 47.703125 \nL 18.3125 47.703125 \nL 18.3125 18.015625 \nQ 18.3125 11.328125 20.140625 9.421875 \nQ 21.96875 7.515625 27.59375 7.515625 \nL 36.8125 7.515625 \nL 36.8125 0 \nL 27.59375 0 \nQ 17.1875 0 13.234375 3.875 \nQ 9.28125 7.765625 9.28125 18.015625 \nL 9.28125 47.703125 \nL 2.6875 47.703125 \nL 2.6875 54.6875 \nL 9.28125 54.6875 \nL 9.28125 70.21875 \nz\n\" id=\"DejaVuSans-116\"/>\n     </defs>\n     <use xlink:href=\"#DejaVuSans-84\"/>\n     <use x=\"46.333984\" xlink:href=\"#DejaVuSans-114\"/>\n     <use x=\"87.447266\" xlink:href=\"#DejaVuSans-97\"/>\n     <use x=\"148.726562\" xlink:href=\"#DejaVuSans-105\"/>\n     <use x=\"176.509766\" xlink:href=\"#DejaVuSans-110\"/>\n     <use x=\"239.888672\" xlink:href=\"#DejaVuSans-105\"/>\n     <use x=\"267.671875\" xlink:href=\"#DejaVuSans-110\"/>\n     <use x=\"331.050781\" xlink:href=\"#DejaVuSans-103\"/>\n     <use x=\"394.527344\" xlink:href=\"#DejaVuSans-32\"/>\n     <use x=\"426.314453\" xlink:href=\"#DejaVuSans-97\"/>\n     <use x=\"487.59375\" xlink:href=\"#DejaVuSans-110\"/>\n     <use x=\"550.972656\" xlink:href=\"#DejaVuSans-100\"/>\n     <use x=\"614.449219\" xlink:href=\"#DejaVuSans-32\"/>\n     <use x=\"646.236328\" xlink:href=\"#DejaVuSans-118\"/>\n     <use x=\"705.416016\" xlink:href=\"#DejaVuSans-97\"/>\n     <use x=\"766.695312\" xlink:href=\"#DejaVuSans-108\"/>\n     <use x=\"794.478516\" xlink:href=\"#DejaVuSans-105\"/>\n     <use x=\"822.261719\" xlink:href=\"#DejaVuSans-100\"/>\n     <use x=\"885.738281\" xlink:href=\"#DejaVuSans-97\"/>\n     <use x=\"947.017578\" xlink:href=\"#DejaVuSans-116\"/>\n     <use x=\"986.226562\" xlink:href=\"#DejaVuSans-105\"/>\n     <use x=\"1014.009766\" xlink:href=\"#DejaVuSans-111\"/>\n     <use x=\"1075.191406\" xlink:href=\"#DejaVuSans-110\"/>\n     <use x=\"1138.570312\" xlink:href=\"#DejaVuSans-32\"/>\n     <use x=\"1170.357422\" xlink:href=\"#DejaVuSans-97\"/>\n     <use x=\"1231.636719\" xlink:href=\"#DejaVuSans-99\"/>\n     <use x=\"1286.617188\" xlink:href=\"#DejaVuSans-99\"/>\n     <use x=\"1341.597656\" xlink:href=\"#DejaVuSans-117\"/>\n     <use x=\"1404.976562\" xlink:href=\"#DejaVuSans-114\"/>\n     <use x=\"1446.089844\" xlink:href=\"#DejaVuSans-97\"/>\n     <use x=\"1507.369141\" xlink:href=\"#DejaVuSans-99\"/>\n     <use x=\"1562.349609\" xlink:href=\"#DejaVuSans-121\"/>\n    </g>\n   </g>\n   <g id=\"legend_1\">\n    <g id=\"patch_7\">\n     <path d=\"M 50.78125 59.674375 \nL 106.76875 59.674375 \nQ 108.76875 59.674375 108.76875 57.674375 \nL 108.76875 29.318125 \nQ 108.76875 27.318125 106.76875 27.318125 \nL 50.78125 27.318125 \nQ 48.78125 27.318125 48.78125 29.318125 \nL 48.78125 57.674375 \nQ 48.78125 59.674375 50.78125 59.674375 \nz\n\" style=\"fill:#ffffff;opacity:0.8;stroke:#cccccc;stroke-linejoin:miter;\"/>\n    </g>\n    <g id=\"line2d_15\">\n     <path d=\"M 52.78125 35.416562 \nL 72.78125 35.416562 \n\" style=\"fill:none;stroke:#0000ff;stroke-linecap:square;stroke-width:1.5;\"/>\n    </g>\n    <g id=\"line2d_16\"/>\n    <g id=\"text_16\">\n     <!-- Train -->\n     <g transform=\"translate(80.78125 38.916562)scale(0.1 -0.1)\">\n      <use xlink:href=\"#DejaVuSans-84\"/>\n      <use x=\"46.333984\" xlink:href=\"#DejaVuSans-114\"/>\n      <use x=\"87.447266\" xlink:href=\"#DejaVuSans-97\"/>\n      <use x=\"148.726562\" xlink:href=\"#DejaVuSans-105\"/>\n      <use x=\"176.509766\" xlink:href=\"#DejaVuSans-110\"/>\n     </g>\n    </g>\n    <g id=\"line2d_17\">\n     <path d=\"M 52.78125 50.094687 \nL 72.78125 50.094687 \n\" style=\"fill:none;stroke:#ffa500;stroke-linecap:square;stroke-width:1.5;\"/>\n    </g>\n    <g id=\"line2d_18\"/>\n    <g id=\"text_17\">\n     <!-- Val -->\n     <g transform=\"translate(80.78125 53.594687)scale(0.1 -0.1)\">\n      <defs>\n       <path d=\"M 28.609375 0 \nL 0.78125 72.90625 \nL 11.078125 72.90625 \nL 34.1875 11.53125 \nL 57.328125 72.90625 \nL 67.578125 72.90625 \nL 39.796875 0 \nz\n\" id=\"DejaVuSans-86\"/>\n      </defs>\n      <use xlink:href=\"#DejaVuSans-86\"/>\n      <use x=\"60.658203\" xlink:href=\"#DejaVuSans-97\"/>\n      <use x=\"121.9375\" xlink:href=\"#DejaVuSans-108\"/>\n     </g>\n    </g>\n   </g>\n  </g>\n </g>\n <defs>\n  <clipPath id=\"p32cb8b9575\">\n   <rect height=\"217.44\" width=\"334.8\" x=\"43.78125\" y=\"22.318125\"/>\n  </clipPath>\n </defs>\n</svg>\n",
      "image/png": "[encoded data removed]"
     },
     "metadata": {
      "needs_background": "light"
     }
    },
    {
     "output_type": "display_data",
     "data": {
      "text/plain": "<Figure size 432x288 with 1 Axes>",
      "image/svg+xml": "<?xml version=\"1.0\" encoding=\"utf-8\" standalone=\"no\"?>\n<!DOCTYPE svg PUBLIC \"-//W3C//DTD SVG 1.1//EN\"\n  \"http://www.w3.org/Graphics/SVG/1.1/DTD/svg11.dtd\">\n<!-- Created with matplotlib (https://matplotlib.org/) -->\n<svg height=\"277.314375pt\" version=\"1.1\" viewBox=\"0 0 385.78125 277.314375\" width=\"385.78125pt\" xmlns=\"http://www.w3.org/2000/svg\" xmlns:xlink=\"http://www.w3.org/1999/xlink\">\n <metadata>\n  <rdf:RDF xmlns:cc=\"http://creativecommons.org/ns#\" xmlns:dc=\"http://purl.org/dc/elements/1.1/\" xmlns:rdf=\"http://www.w3.org/1999/02/22-rdf-syntax-ns#\">\n   <cc:Work>\n    <dc:type rdf:resource=\"http://purl.org/dc/dcmitype/StillImage\"/>\n    <dc:date>2021-04-18T13:55:30.126054</dc:date>\n    <dc:format>image/svg+xml</dc:format>\n    <dc:creator>\n     <cc:Agent>\n      <dc:title>Matplotlib v3.3.3, https://matplotlib.org/</dc:title>\n     </cc:Agent>\n    </dc:creator>\n   </cc:Work>\n  </rdf:RDF>\n </metadata>\n <defs>\n  <style type=\"text/css\">*{stroke-linecap:butt;stroke-linejoin:round;}</style>\n </defs>\n <g id=\"figure_1\">\n  <g id=\"patch_1\">\n   <path d=\"M 0 277.314375 \nL 385.78125 277.314375 \nL 385.78125 0 \nL 0 0 \nz\n\" style=\"fill:none;\"/>\n  </g>\n  <g id=\"axes_1\">\n   <g id=\"patch_2\">\n    <path d=\"M 43.78125 239.758125 \nL 378.58125 239.758125 \nL 378.58125 22.318125 \nL 43.78125 22.318125 \nz\n\" style=\"fill:#ffffff;\"/>\n   </g>\n   <g id=\"matplotlib.axis_1\">\n    <g id=\"xtick_1\">\n     <g id=\"line2d_1\">\n      <defs>\n       <path d=\"M 0 0 \nL 0 3.5 \n\" id=\"m09357b5eb6\" style=\"stroke:#000000;stroke-width:0.8;\"/>\n      </defs>\n      <g>\n       <use style=\"stroke:#000000;stroke-width:0.8;\" x=\"58.999432\" xlink:href=\"#m09357b5eb6\" y=\"239.758125\"/>\n      </g>\n     </g>\n     <g id=\"text_1\">\n      <!-- 0 -->\n      <g transform=\"translate(55.818182 254.356562)scale(0.1 -0.1)\">\n       <defs>\n        <path d=\"M 31.78125 66.40625 \nQ 24.171875 66.40625 20.328125 58.90625 \nQ 16.5 51.421875 16.5 36.375 \nQ 16.5 21.390625 20.328125 13.890625 \nQ 24.171875 6.390625 31.78125 6.390625 \nQ 39.453125 6.390625 43.28125 13.890625 \nQ 47.125 21.390625 47.125 36.375 \nQ 47.125 51.421875 43.28125 58.90625 \nQ 39.453125 66.40625 31.78125 66.40625 \nz\nM 31.78125 74.21875 \nQ 44.046875 74.21875 50.515625 64.515625 \nQ 56.984375 54.828125 56.984375 36.375 \nQ 56.984375 17.96875 50.515625 8.265625 \nQ 44.046875 -1.421875 31.78125 -1.421875 \nQ 19.53125 -1.421875 13.0625 8.265625 \nQ 6.59375 17.96875 6.59375 36.375 \nQ 6.59375 54.828125 13.0625 64.515625 \nQ 19.53125 74.21875 31.78125 74.21875 \nz\n\" id=\"DejaVuSans-48\"/>\n       </defs>\n       <use xlink:href=\"#DejaVuSans-48\"/>\n      </g>\n     </g>\n    </g>\n    <g id=\"xtick_2\">\n     <g id=\"line2d_2\">\n      <g>\n       <use style=\"stroke:#000000;stroke-width:0.8;\" x=\"126.635795\" xlink:href=\"#m09357b5eb6\" y=\"239.758125\"/>\n      </g>\n     </g>\n     <g id=\"text_2\">\n      <!-- 2 -->\n      <g transform=\"translate(123.454545 254.356562)scale(0.1 -0.1)\">\n       <defs>\n        <path d=\"M 19.1875 8.296875 \nL 53.609375 8.296875 \nL 53.609375 0 \nL 7.328125 0 \nL 7.328125 8.296875 \nQ 12.9375 14.109375 22.625 23.890625 \nQ 32.328125 33.6875 34.8125 36.53125 \nQ 39.546875 41.84375 41.421875 45.53125 \nQ 43.3125 49.21875 43.3125 52.78125 \nQ 43.3125 58.59375 39.234375 62.25 \nQ 35.15625 65.921875 28.609375 65.921875 \nQ 23.96875 65.921875 18.8125 64.3125 \nQ 13.671875 62.703125 7.8125 59.421875 \nL 7.8125 69.390625 \nQ 13.765625 71.78125 18.9375 73 \nQ 24.125 74.21875 28.421875 74.21875 \nQ 39.75 74.21875 46.484375 68.546875 \nQ 53.21875 62.890625 53.21875 53.421875 \nQ 53.21875 48.921875 51.53125 44.890625 \nQ 49.859375 40.875 45.40625 35.40625 \nQ 44.1875 33.984375 37.640625 27.21875 \nQ 31.109375 20.453125 19.1875 8.296875 \nz\n\" id=\"DejaVuSans-50\"/>\n       </defs>\n       <use xlink:href=\"#DejaVuSans-50\"/>\n      </g>\n     </g>\n    </g>\n    <g id=\"xtick_3\">\n     <g id=\"line2d_3\">\n      <g>\n       <use style=\"stroke:#000000;stroke-width:0.8;\" x=\"194.272159\" xlink:href=\"#m09357b5eb6\" y=\"239.758125\"/>\n      </g>\n     </g>\n     <g id=\"text_3\">\n      <!-- 4 -->\n      <g transform=\"translate(191.090909 254.356562)scale(0.1 -0.1)\">\n       <defs>\n        <path d=\"M 37.796875 64.3125 \nL 12.890625 25.390625 \nL 37.796875 25.390625 \nz\nM 35.203125 72.90625 \nL 47.609375 72.90625 \nL 47.609375 25.390625 \nL 58.015625 25.390625 \nL 58.015625 17.1875 \nL 47.609375 17.1875 \nL 47.609375 0 \nL 37.796875 0 \nL 37.796875 17.1875 \nL 4.890625 17.1875 \nL 4.890625 26.703125 \nz\n\" id=\"DejaVuSans-52\"/>\n       </defs>\n       <use xlink:href=\"#DejaVuSans-52\"/>\n      </g>\n     </g>\n    </g>\n    <g id=\"xtick_4\">\n     <g id=\"line2d_4\">\n      <g>\n       <use style=\"stroke:#000000;stroke-width:0.8;\" x=\"261.908523\" xlink:href=\"#m09357b5eb6\" y=\"239.758125\"/>\n      </g>\n     </g>\n     <g id=\"text_4\">\n      <!-- 6 -->\n      <g transform=\"translate(258.727273 254.356562)scale(0.1 -0.1)\">\n       <defs>\n        <path d=\"M 33.015625 40.375 \nQ 26.375 40.375 22.484375 35.828125 \nQ 18.609375 31.296875 18.609375 23.390625 \nQ 18.609375 15.53125 22.484375 10.953125 \nQ 26.375 6.390625 33.015625 6.390625 \nQ 39.65625 6.390625 43.53125 10.953125 \nQ 47.40625 15.53125 47.40625 23.390625 \nQ 47.40625 31.296875 43.53125 35.828125 \nQ 39.65625 40.375 33.015625 40.375 \nz\nM 52.59375 71.296875 \nL 52.59375 62.3125 \nQ 48.875 64.0625 45.09375 64.984375 \nQ 41.3125 65.921875 37.59375 65.921875 \nQ 27.828125 65.921875 22.671875 59.328125 \nQ 17.53125 52.734375 16.796875 39.40625 \nQ 19.671875 43.65625 24.015625 45.921875 \nQ 28.375 48.1875 33.59375 48.1875 \nQ 44.578125 48.1875 50.953125 41.515625 \nQ 57.328125 34.859375 57.328125 23.390625 \nQ 57.328125 12.15625 50.6875 5.359375 \nQ 44.046875 -1.421875 33.015625 -1.421875 \nQ 20.359375 -1.421875 13.671875 8.265625 \nQ 6.984375 17.96875 6.984375 36.375 \nQ 6.984375 53.65625 15.1875 63.9375 \nQ 23.390625 74.21875 37.203125 74.21875 \nQ 40.921875 74.21875 44.703125 73.484375 \nQ 48.484375 72.75 52.59375 71.296875 \nz\n\" id=\"DejaVuSans-54\"/>\n       </defs>\n       <use xlink:href=\"#DejaVuSans-54\"/>\n      </g>\n     </g>\n    </g>\n    <g id=\"xtick_5\">\n     <g id=\"line2d_5\">\n      <g>\n       <use style=\"stroke:#000000;stroke-width:0.8;\" x=\"329.544886\" xlink:href=\"#m09357b5eb6\" y=\"239.758125\"/>\n      </g>\n     </g>\n     <g id=\"text_5\">\n      <!-- 8 -->\n      <g transform=\"translate(326.363636 254.356562)scale(0.1 -0.1)\">\n       <defs>\n        <path d=\"M 31.78125 34.625 \nQ 24.75 34.625 20.71875 30.859375 \nQ 16.703125 27.09375 16.703125 20.515625 \nQ 16.703125 13.921875 20.71875 10.15625 \nQ 24.75 6.390625 31.78125 6.390625 \nQ 38.8125 6.390625 42.859375 10.171875 \nQ 46.921875 13.96875 46.921875 20.515625 \nQ 46.921875 27.09375 42.890625 30.859375 \nQ 38.875 34.625 31.78125 34.625 \nz\nM 21.921875 38.8125 \nQ 15.578125 40.375 12.03125 44.71875 \nQ 8.5 49.078125 8.5 55.328125 \nQ 8.5 64.0625 14.71875 69.140625 \nQ 20.953125 74.21875 31.78125 74.21875 \nQ 42.671875 74.21875 48.875 69.140625 \nQ 55.078125 64.0625 55.078125 55.328125 \nQ 55.078125 49.078125 51.53125 44.71875 \nQ 48 40.375 41.703125 38.8125 \nQ 48.828125 37.15625 52.796875 32.3125 \nQ 56.78125 27.484375 56.78125 20.515625 \nQ 56.78125 9.90625 50.3125 4.234375 \nQ 43.84375 -1.421875 31.78125 -1.421875 \nQ 19.734375 -1.421875 13.25 4.234375 \nQ 6.78125 9.90625 6.78125 20.515625 \nQ 6.78125 27.484375 10.78125 32.3125 \nQ 14.796875 37.15625 21.921875 38.8125 \nz\nM 18.3125 54.390625 \nQ 18.3125 48.734375 21.84375 45.5625 \nQ 25.390625 42.390625 31.78125 42.390625 \nQ 38.140625 42.390625 41.71875 45.5625 \nQ 45.3125 48.734375 45.3125 54.390625 \nQ 45.3125 60.0625 41.71875 63.234375 \nQ 38.140625 66.40625 31.78125 66.40625 \nQ 25.390625 66.40625 21.84375 63.234375 \nQ 18.3125 60.0625 18.3125 54.390625 \nz\n\" id=\"DejaVuSans-56\"/>\n       </defs>\n       <use xlink:href=\"#DejaVuSans-56\"/>\n      </g>\n     </g>\n    </g>\n    <g id=\"text_6\">\n     <!-- Epoch -->\n     <g transform=\"translate(195.870313 268.034687)scale(0.1 -0.1)\">\n      <defs>\n       <path d=\"M 9.8125 72.90625 \nL 55.90625 72.90625 \nL 55.90625 64.59375 \nL 19.671875 64.59375 \nL 19.671875 43.015625 \nL 54.390625 43.015625 \nL 54.390625 34.71875 \nL 19.671875 34.71875 \nL 19.671875 8.296875 \nL 56.78125 8.296875 \nL 56.78125 0 \nL 9.8125 0 \nz\n\" id=\"DejaVuSans-69\"/>\n       <path d=\"M 18.109375 8.203125 \nL 18.109375 -20.796875 \nL 9.078125 -20.796875 \nL 9.078125 54.6875 \nL 18.109375 54.6875 \nL 18.109375 46.390625 \nQ 20.953125 51.265625 25.265625 53.625 \nQ 29.59375 56 35.59375 56 \nQ 45.5625 56 51.78125 48.09375 \nQ 58.015625 40.1875 58.015625 27.296875 \nQ 58.015625 14.40625 51.78125 6.484375 \nQ 45.5625 -1.421875 35.59375 -1.421875 \nQ 29.59375 -1.421875 25.265625 0.953125 \nQ 20.953125 3.328125 18.109375 8.203125 \nz\nM 48.6875 27.296875 \nQ 48.6875 37.203125 44.609375 42.84375 \nQ 40.53125 48.484375 33.40625 48.484375 \nQ 26.265625 48.484375 22.1875 42.84375 \nQ 18.109375 37.203125 18.109375 27.296875 \nQ 18.109375 17.390625 22.1875 11.75 \nQ 26.265625 6.109375 33.40625 6.109375 \nQ 40.53125 6.109375 44.609375 11.75 \nQ 48.6875 17.390625 48.6875 27.296875 \nz\n\" id=\"DejaVuSans-112\"/>\n       <path d=\"M 30.609375 48.390625 \nQ 23.390625 48.390625 19.1875 42.75 \nQ 14.984375 37.109375 14.984375 27.296875 \nQ 14.984375 17.484375 19.15625 11.84375 \nQ 23.34375 6.203125 30.609375 6.203125 \nQ 37.796875 6.203125 41.984375 11.859375 \nQ 46.1875 17.53125 46.1875 27.296875 \nQ 46.1875 37.015625 41.984375 42.703125 \nQ 37.796875 48.390625 30.609375 48.390625 \nz\nM 30.609375 56 \nQ 42.328125 56 49.015625 48.375 \nQ 55.71875 40.765625 55.71875 27.296875 \nQ 55.71875 13.875 49.015625 6.21875 \nQ 42.328125 -1.421875 30.609375 -1.421875 \nQ 18.84375 -1.421875 12.171875 6.21875 \nQ 5.515625 13.875 5.515625 27.296875 \nQ 5.515625 40.765625 12.171875 48.375 \nQ 18.84375 56 30.609375 56 \nz\n\" id=\"DejaVuSans-111\"/>\n       <path d=\"M 48.78125 52.59375 \nL 48.78125 44.1875 \nQ 44.96875 46.296875 41.140625 47.34375 \nQ 37.3125 48.390625 33.40625 48.390625 \nQ 24.65625 48.390625 19.8125 42.84375 \nQ 14.984375 37.3125 14.984375 27.296875 \nQ 14.984375 17.28125 19.8125 11.734375 \nQ 24.65625 6.203125 33.40625 6.203125 \nQ 37.3125 6.203125 41.140625 7.25 \nQ 44.96875 8.296875 48.78125 10.40625 \nL 48.78125 2.09375 \nQ 45.015625 0.34375 40.984375 -0.53125 \nQ 36.96875 -1.421875 32.421875 -1.421875 \nQ 20.0625 -1.421875 12.78125 6.34375 \nQ 5.515625 14.109375 5.515625 27.296875 \nQ 5.515625 40.671875 12.859375 48.328125 \nQ 20.21875 56 33.015625 56 \nQ 37.15625 56 41.109375 55.140625 \nQ 45.0625 54.296875 48.78125 52.59375 \nz\n\" id=\"DejaVuSans-99\"/>\n       <path d=\"M 54.890625 33.015625 \nL 54.890625 0 \nL 45.90625 0 \nL 45.90625 32.71875 \nQ 45.90625 40.484375 42.875 44.328125 \nQ 39.84375 48.1875 33.796875 48.1875 \nQ 26.515625 48.1875 22.3125 43.546875 \nQ 18.109375 38.921875 18.109375 30.90625 \nL 18.109375 0 \nL 9.078125 0 \nL 9.078125 75.984375 \nL 18.109375 75.984375 \nL 18.109375 46.1875 \nQ 21.34375 51.125 25.703125 53.5625 \nQ 30.078125 56 35.796875 56 \nQ 45.21875 56 50.046875 50.171875 \nQ 54.890625 44.34375 54.890625 33.015625 \nz\n\" id=\"DejaVuSans-104\"/>\n      </defs>\n      <use xlink:href=\"#DejaVuSans-69\"/>\n      <use x=\"63.183594\" xlink:href=\"#DejaVuSans-112\"/>\n      <use x=\"126.660156\" xlink:href=\"#DejaVuSans-111\"/>\n      <use x=\"187.841797\" xlink:href=\"#DejaVuSans-99\"/>\n      <use x=\"242.822266\" xlink:href=\"#DejaVuSans-104\"/>\n     </g>\n    </g>\n   </g>\n   <g id=\"matplotlib.axis_2\">\n    <g id=\"ytick_1\">\n     <g id=\"line2d_6\">\n      <defs>\n       <path d=\"M 0 0 \nL -3.5 0 \n\" id=\"md166bb05fe\" style=\"stroke:#000000;stroke-width:0.8;\"/>\n      </defs>\n      <g>\n       <use style=\"stroke:#000000;stroke-width:0.8;\" x=\"43.78125\" xlink:href=\"#md166bb05fe\" y=\"232.431423\"/>\n      </g>\n     </g>\n     <g id=\"text_7\">\n      <!-- 0.8 -->\n      <g transform=\"translate(20.878125 236.230642)scale(0.1 -0.1)\">\n       <defs>\n        <path d=\"M 10.6875 12.40625 \nL 21 12.40625 \nL 21 0 \nL 10.6875 0 \nz\n\" id=\"DejaVuSans-46\"/>\n       </defs>\n       <use xlink:href=\"#DejaVuSans-48\"/>\n       <use x=\"63.623047\" xlink:href=\"#DejaVuSans-46\"/>\n       <use x=\"95.410156\" xlink:href=\"#DejaVuSans-56\"/>\n      </g>\n     </g>\n    </g>\n    <g id=\"ytick_2\">\n     <g id=\"line2d_7\">\n      <g>\n       <use style=\"stroke:#000000;stroke-width:0.8;\" x=\"43.78125\" xlink:href=\"#md166bb05fe\" y=\"205.024798\"/>\n      </g>\n     </g>\n     <g id=\"text_8\">\n      <!-- 1.0 -->\n      <g transform=\"translate(20.878125 208.824017)scale(0.1 -0.1)\">\n       <defs>\n        <path d=\"M 12.40625 8.296875 \nL 28.515625 8.296875 \nL 28.515625 63.921875 \nL 10.984375 60.40625 \nL 10.984375 69.390625 \nL 28.421875 72.90625 \nL 38.28125 72.90625 \nL 38.28125 8.296875 \nL 54.390625 8.296875 \nL 54.390625 0 \nL 12.40625 0 \nz\n\" id=\"DejaVuSans-49\"/>\n       </defs>\n       <use xlink:href=\"#DejaVuSans-49\"/>\n       <use x=\"63.623047\" xlink:href=\"#DejaVuSans-46\"/>\n       <use x=\"95.410156\" xlink:href=\"#DejaVuSans-48\"/>\n      </g>\n     </g>\n    </g>\n    <g id=\"ytick_3\">\n     <g id=\"line2d_8\">\n      <g>\n       <use style=\"stroke:#000000;stroke-width:0.8;\" x=\"43.78125\" xlink:href=\"#md166bb05fe\" y=\"177.618173\"/>\n      </g>\n     </g>\n     <g id=\"text_9\">\n      <!-- 1.2 -->\n      <g transform=\"translate(20.878125 181.417391)scale(0.1 -0.1)\">\n       <use xlink:href=\"#DejaVuSans-49\"/>\n       <use x=\"63.623047\" xlink:href=\"#DejaVuSans-46\"/>\n       <use x=\"95.410156\" xlink:href=\"#DejaVuSans-50\"/>\n      </g>\n     </g>\n    </g>\n    <g id=\"ytick_4\">\n     <g id=\"line2d_9\">\n      <g>\n       <use style=\"stroke:#000000;stroke-width:0.8;\" x=\"43.78125\" xlink:href=\"#md166bb05fe\" y=\"150.211547\"/>\n      </g>\n     </g>\n     <g id=\"text_10\">\n      <!-- 1.4 -->\n      <g transform=\"translate(20.878125 154.010766)scale(0.1 -0.1)\">\n       <use xlink:href=\"#DejaVuSans-49\"/>\n       <use x=\"63.623047\" xlink:href=\"#DejaVuSans-46\"/>\n       <use x=\"95.410156\" xlink:href=\"#DejaVuSans-52\"/>\n      </g>\n     </g>\n    </g>\n    <g id=\"ytick_5\">\n     <g id=\"line2d_10\">\n      <g>\n       <use style=\"stroke:#000000;stroke-width:0.8;\" x=\"43.78125\" xlink:href=\"#md166bb05fe\" y=\"122.804922\"/>\n      </g>\n     </g>\n     <g id=\"text_11\">\n      <!-- 1.6 -->\n      <g transform=\"translate(20.878125 126.604141)scale(0.1 -0.1)\">\n       <use xlink:href=\"#DejaVuSans-49\"/>\n       <use x=\"63.623047\" xlink:href=\"#DejaVuSans-46\"/>\n       <use x=\"95.410156\" xlink:href=\"#DejaVuSans-54\"/>\n      </g>\n     </g>\n    </g>\n    <g id=\"ytick_6\">\n     <g id=\"line2d_11\">\n      <g>\n       <use style=\"stroke:#000000;stroke-width:0.8;\" x=\"43.78125\" xlink:href=\"#md166bb05fe\" y=\"95.398296\"/>\n      </g>\n     </g>\n     <g id=\"text_12\">\n      <!-- 1.8 -->\n      <g transform=\"translate(20.878125 99.197515)scale(0.1 -0.1)\">\n       <use xlink:href=\"#DejaVuSans-49\"/>\n       <use x=\"63.623047\" xlink:href=\"#DejaVuSans-46\"/>\n       <use x=\"95.410156\" xlink:href=\"#DejaVuSans-56\"/>\n      </g>\n     </g>\n    </g>\n    <g id=\"ytick_7\">\n     <g id=\"line2d_12\">\n      <g>\n       <use style=\"stroke:#000000;stroke-width:0.8;\" x=\"43.78125\" xlink:href=\"#md166bb05fe\" y=\"67.991671\"/>\n      </g>\n     </g>\n     <g id=\"text_13\">\n      <!-- 2.0 -->\n      <g transform=\"translate(20.878125 71.79089)scale(0.1 -0.1)\">\n       <use xlink:href=\"#DejaVuSans-50\"/>\n       <use x=\"63.623047\" xlink:href=\"#DejaVuSans-46\"/>\n       <use x=\"95.410156\" xlink:href=\"#DejaVuSans-48\"/>\n      </g>\n     </g>\n    </g>\n    <g id=\"ytick_8\">\n     <g id=\"line2d_13\">\n      <g>\n       <use style=\"stroke:#000000;stroke-width:0.8;\" x=\"43.78125\" xlink:href=\"#md166bb05fe\" y=\"40.585046\"/>\n      </g>\n     </g>\n     <g id=\"text_14\">\n      <!-- 2.2 -->\n      <g transform=\"translate(20.878125 44.384264)scale(0.1 -0.1)\">\n       <use xlink:href=\"#DejaVuSans-50\"/>\n       <use x=\"63.623047\" xlink:href=\"#DejaVuSans-46\"/>\n       <use x=\"95.410156\" xlink:href=\"#DejaVuSans-50\"/>\n      </g>\n     </g>\n    </g>\n    <g id=\"text_15\">\n     <!-- Loss -->\n     <g transform=\"translate(14.798438 142.005312)rotate(-90)scale(0.1 -0.1)\">\n      <defs>\n       <path d=\"M 9.8125 72.90625 \nL 19.671875 72.90625 \nL 19.671875 8.296875 \nL 55.171875 8.296875 \nL 55.171875 0 \nL 9.8125 0 \nz\n\" id=\"DejaVuSans-76\"/>\n       <path d=\"M 44.28125 53.078125 \nL 44.28125 44.578125 \nQ 40.484375 46.53125 36.375 47.5 \nQ 32.28125 48.484375 27.875 48.484375 \nQ 21.1875 48.484375 17.84375 46.4375 \nQ 14.5 44.390625 14.5 40.28125 \nQ 14.5 37.15625 16.890625 35.375 \nQ 19.28125 33.59375 26.515625 31.984375 \nL 29.59375 31.296875 \nQ 39.15625 29.25 43.1875 25.515625 \nQ 47.21875 21.78125 47.21875 15.09375 \nQ 47.21875 7.46875 41.1875 3.015625 \nQ 35.15625 -1.421875 24.609375 -1.421875 \nQ 20.21875 -1.421875 15.453125 -0.5625 \nQ 10.6875 0.296875 5.421875 2 \nL 5.421875 11.28125 \nQ 10.40625 8.6875 15.234375 7.390625 \nQ 20.0625 6.109375 24.8125 6.109375 \nQ 31.15625 6.109375 34.5625 8.28125 \nQ 37.984375 10.453125 37.984375 14.40625 \nQ 37.984375 18.0625 35.515625 20.015625 \nQ 33.0625 21.96875 24.703125 23.78125 \nL 21.578125 24.515625 \nQ 13.234375 26.265625 9.515625 29.90625 \nQ 5.8125 33.546875 5.8125 39.890625 \nQ 5.8125 47.609375 11.28125 51.796875 \nQ 16.75 56 26.8125 56 \nQ 31.78125 56 36.171875 55.265625 \nQ 40.578125 54.546875 44.28125 53.078125 \nz\n\" id=\"DejaVuSans-115\"/>\n      </defs>\n      <use xlink:href=\"#DejaVuSans-76\"/>\n      <use x=\"53.962891\" xlink:href=\"#DejaVuSans-111\"/>\n      <use x=\"115.144531\" xlink:href=\"#DejaVuSans-115\"/>\n      <use x=\"167.244141\" xlink:href=\"#DejaVuSans-115\"/>\n     </g>\n    </g>\n   </g>\n   <g id=\"line2d_14\">\n    <path clip-path=\"url(#p0b8cb41a82)\" d=\"M 58.999432 32.201761 \nL 92.817614 87.200108 \nL 126.635795 123.56874 \nL 160.453977 151.07907 \nL 194.272159 172.122161 \nL 228.090341 188.808704 \nL 261.908523 202.11446 \nL 295.726705 213.086836 \nL 329.544886 222.143394 \nL 363.363068 229.874489 \n\" style=\"fill:none;stroke:#0000ff;stroke-linecap:square;stroke-width:1.5;\"/>\n   </g>\n   <g id=\"line2d_15\">\n    <path clip-path=\"url(#p0b8cb41a82)\" d=\"M 58.999432 46.626573 \nL 92.817614 64.054623 \nL 126.635795 77.836611 \nL 160.453977 88.486881 \nL 194.272159 97.600083 \nL 228.090341 104.640263 \nL 261.908523 110.646283 \nL 295.726705 115.291104 \nL 329.544886 119.382442 \nL 363.363068 122.542879 \n\" style=\"fill:none;stroke:#ffa500;stroke-linecap:square;stroke-width:1.5;\"/>\n   </g>\n   <g id=\"patch_3\">\n    <path d=\"M 43.78125 239.758125 \nL 43.78125 22.318125 \n\" style=\"fill:none;stroke:#000000;stroke-linecap:square;stroke-linejoin:miter;stroke-width:0.8;\"/>\n   </g>\n   <g id=\"patch_4\">\n    <path d=\"M 378.58125 239.758125 \nL 378.58125 22.318125 \n\" style=\"fill:none;stroke:#000000;stroke-linecap:square;stroke-linejoin:miter;stroke-width:0.8;\"/>\n   </g>\n   <g id=\"patch_5\">\n    <path d=\"M 43.78125 239.758125 \nL 378.58125 239.758125 \n\" style=\"fill:none;stroke:#000000;stroke-linecap:square;stroke-linejoin:miter;stroke-width:0.8;\"/>\n   </g>\n   <g id=\"patch_6\">\n    <path d=\"M 43.78125 22.318125 \nL 378.58125 22.318125 \n\" style=\"fill:none;stroke:#000000;stroke-linecap:square;stroke-linejoin:miter;stroke-width:0.8;\"/>\n   </g>\n   <g id=\"text_16\">\n    <!-- Training and validation loss -->\n    <g transform=\"translate(129.37125 16.318125)scale(0.12 -0.12)\">\n     <defs>\n      <path d=\"M -0.296875 72.90625 \nL 61.375 72.90625 \nL 61.375 64.59375 \nL 35.5 64.59375 \nL 35.5 0 \nL 25.59375 0 \nL 25.59375 64.59375 \nL -0.296875 64.59375 \nz\n\" id=\"DejaVuSans-84\"/>\n      <path d=\"M 41.109375 46.296875 \nQ 39.59375 47.171875 37.8125 47.578125 \nQ 36.03125 48 33.890625 48 \nQ 26.265625 48 22.1875 43.046875 \nQ 18.109375 38.09375 18.109375 28.8125 \nL 18.109375 0 \nL 9.078125 0 \nL 9.078125 54.6875 \nL 18.109375 54.6875 \nL 18.109375 46.1875 \nQ 20.953125 51.171875 25.484375 53.578125 \nQ 30.03125 56 36.53125 56 \nQ 37.453125 56 38.578125 55.875 \nQ 39.703125 55.765625 41.0625 55.515625 \nz\n\" id=\"DejaVuSans-114\"/>\n      <path d=\"M 34.28125 27.484375 \nQ 23.390625 27.484375 19.1875 25 \nQ 14.984375 22.515625 14.984375 16.5 \nQ 14.984375 11.71875 18.140625 8.90625 \nQ 21.296875 6.109375 26.703125 6.109375 \nQ 34.1875 6.109375 38.703125 11.40625 \nQ 43.21875 16.703125 43.21875 25.484375 \nL 43.21875 27.484375 \nz\nM 52.203125 31.203125 \nL 52.203125 0 \nL 43.21875 0 \nL 43.21875 8.296875 \nQ 40.140625 3.328125 35.546875 0.953125 \nQ 30.953125 -1.421875 24.3125 -1.421875 \nQ 15.921875 -1.421875 10.953125 3.296875 \nQ 6 8.015625 6 15.921875 \nQ 6 25.140625 12.171875 29.828125 \nQ 18.359375 34.515625 30.609375 34.515625 \nL 43.21875 34.515625 \nL 43.21875 35.40625 \nQ 43.21875 41.609375 39.140625 45 \nQ 35.0625 48.390625 27.6875 48.390625 \nQ 23 48.390625 18.546875 47.265625 \nQ 14.109375 46.140625 10.015625 43.890625 \nL 10.015625 52.203125 \nQ 14.9375 54.109375 19.578125 55.046875 \nQ 24.21875 56 28.609375 56 \nQ 40.484375 56 46.34375 49.84375 \nQ 52.203125 43.703125 52.203125 31.203125 \nz\n\" id=\"DejaVuSans-97\"/>\n      <path d=\"M 9.421875 54.6875 \nL 18.40625 54.6875 \nL 18.40625 0 \nL 9.421875 0 \nz\nM 9.421875 75.984375 \nL 18.40625 75.984375 \nL 18.40625 64.59375 \nL 9.421875 64.59375 \nz\n\" id=\"DejaVuSans-105\"/>\n      <path d=\"M 54.890625 33.015625 \nL 54.890625 0 \nL 45.90625 0 \nL 45.90625 32.71875 \nQ 45.90625 40.484375 42.875 44.328125 \nQ 39.84375 48.1875 33.796875 48.1875 \nQ 26.515625 48.1875 22.3125 43.546875 \nQ 18.109375 38.921875 18.109375 30.90625 \nL 18.109375 0 \nL 9.078125 0 \nL 9.078125 54.6875 \nL 18.109375 54.6875 \nL 18.109375 46.1875 \nQ 21.34375 51.125 25.703125 53.5625 \nQ 30.078125 56 35.796875 56 \nQ 45.21875 56 50.046875 50.171875 \nQ 54.890625 44.34375 54.890625 33.015625 \nz\n\" id=\"DejaVuSans-110\"/>\n      <path d=\"M 45.40625 27.984375 \nQ 45.40625 37.75 41.375 43.109375 \nQ 37.359375 48.484375 30.078125 48.484375 \nQ 22.859375 48.484375 18.828125 43.109375 \nQ 14.796875 37.75 14.796875 27.984375 \nQ 14.796875 18.265625 18.828125 12.890625 \nQ 22.859375 7.515625 30.078125 7.515625 \nQ 37.359375 7.515625 41.375 12.890625 \nQ 45.40625 18.265625 45.40625 27.984375 \nz\nM 54.390625 6.78125 \nQ 54.390625 -7.171875 48.1875 -13.984375 \nQ 42 -20.796875 29.203125 -20.796875 \nQ 24.46875 -20.796875 20.265625 -20.09375 \nQ 16.0625 -19.390625 12.109375 -17.921875 \nL 12.109375 -9.1875 \nQ 16.0625 -11.328125 19.921875 -12.34375 \nQ 23.78125 -13.375 27.78125 -13.375 \nQ 36.625 -13.375 41.015625 -8.765625 \nQ 45.40625 -4.15625 45.40625 5.171875 \nL 45.40625 9.625 \nQ 42.625 4.78125 38.28125 2.390625 \nQ 33.9375 0 27.875 0 \nQ 17.828125 0 11.671875 7.65625 \nQ 5.515625 15.328125 5.515625 27.984375 \nQ 5.515625 40.671875 11.671875 48.328125 \nQ 17.828125 56 27.875 56 \nQ 33.9375 56 38.28125 53.609375 \nQ 42.625 51.21875 45.40625 46.390625 \nL 45.40625 54.6875 \nL 54.390625 54.6875 \nz\n\" id=\"DejaVuSans-103\"/>\n      <path id=\"DejaVuSans-32\"/>\n      <path d=\"M 45.40625 46.390625 \nL 45.40625 75.984375 \nL 54.390625 75.984375 \nL 54.390625 0 \nL 45.40625 0 \nL 45.40625 8.203125 \nQ 42.578125 3.328125 38.25 0.953125 \nQ 33.9375 -1.421875 27.875 -1.421875 \nQ 17.96875 -1.421875 11.734375 6.484375 \nQ 5.515625 14.40625 5.515625 27.296875 \nQ 5.515625 40.1875 11.734375 48.09375 \nQ 17.96875 56 27.875 56 \nQ 33.9375 56 38.25 53.625 \nQ 42.578125 51.265625 45.40625 46.390625 \nz\nM 14.796875 27.296875 \nQ 14.796875 17.390625 18.875 11.75 \nQ 22.953125 6.109375 30.078125 6.109375 \nQ 37.203125 6.109375 41.296875 11.75 \nQ 45.40625 17.390625 45.40625 27.296875 \nQ 45.40625 37.203125 41.296875 42.84375 \nQ 37.203125 48.484375 30.078125 48.484375 \nQ 22.953125 48.484375 18.875 42.84375 \nQ 14.796875 37.203125 14.796875 27.296875 \nz\n\" id=\"DejaVuSans-100\"/>\n      <path d=\"M 2.984375 54.6875 \nL 12.5 54.6875 \nL 29.59375 8.796875 \nL 46.6875 54.6875 \nL 56.203125 54.6875 \nL 35.6875 0 \nL 23.484375 0 \nz\n\" id=\"DejaVuSans-118\"/>\n      <path d=\"M 9.421875 75.984375 \nL 18.40625 75.984375 \nL 18.40625 0 \nL 9.421875 0 \nz\n\" id=\"DejaVuSans-108\"/>\n      <path d=\"M 18.3125 70.21875 \nL 18.3125 54.6875 \nL 36.8125 54.6875 \nL 36.8125 47.703125 \nL 18.3125 47.703125 \nL 18.3125 18.015625 \nQ 18.3125 11.328125 20.140625 9.421875 \nQ 21.96875 7.515625 27.59375 7.515625 \nL 36.8125 7.515625 \nL 36.8125 0 \nL 27.59375 0 \nQ 17.1875 0 13.234375 3.875 \nQ 9.28125 7.765625 9.28125 18.015625 \nL 9.28125 47.703125 \nL 2.6875 47.703125 \nL 2.6875 54.6875 \nL 9.28125 54.6875 \nL 9.28125 70.21875 \nz\n\" id=\"DejaVuSans-116\"/>\n     </defs>\n     <use xlink:href=\"#DejaVuSans-84\"/>\n     <use x=\"46.333984\" xlink:href=\"#DejaVuSans-114\"/>\n     <use x=\"87.447266\" xlink:href=\"#DejaVuSans-97\"/>\n     <use x=\"148.726562\" xlink:href=\"#DejaVuSans-105\"/>\n     <use x=\"176.509766\" xlink:href=\"#DejaVuSans-110\"/>\n     <use x=\"239.888672\" xlink:href=\"#DejaVuSans-105\"/>\n     <use x=\"267.671875\" xlink:href=\"#DejaVuSans-110\"/>\n     <use x=\"331.050781\" xlink:href=\"#DejaVuSans-103\"/>\n     <use x=\"394.527344\" xlink:href=\"#DejaVuSans-32\"/>\n     <use x=\"426.314453\" xlink:href=\"#DejaVuSans-97\"/>\n     <use x=\"487.59375\" xlink:href=\"#DejaVuSans-110\"/>\n     <use x=\"550.972656\" xlink:href=\"#DejaVuSans-100\"/>\n     <use x=\"614.449219\" xlink:href=\"#DejaVuSans-32\"/>\n     <use x=\"646.236328\" xlink:href=\"#DejaVuSans-118\"/>\n     <use x=\"705.416016\" xlink:href=\"#DejaVuSans-97\"/>\n     <use x=\"766.695312\" xlink:href=\"#DejaVuSans-108\"/>\n     <use x=\"794.478516\" xlink:href=\"#DejaVuSans-105\"/>\n     <use x=\"822.261719\" xlink:href=\"#DejaVuSans-100\"/>\n     <use x=\"885.738281\" xlink:href=\"#DejaVuSans-97\"/>\n     <use x=\"947.017578\" xlink:href=\"#DejaVuSans-116\"/>\n     <use x=\"986.226562\" xlink:href=\"#DejaVuSans-105\"/>\n     <use x=\"1014.009766\" xlink:href=\"#DejaVuSans-111\"/>\n     <use x=\"1075.191406\" xlink:href=\"#DejaVuSans-110\"/>\n     <use x=\"1138.570312\" xlink:href=\"#DejaVuSans-32\"/>\n     <use x=\"1170.357422\" xlink:href=\"#DejaVuSans-108\"/>\n     <use x=\"1198.140625\" xlink:href=\"#DejaVuSans-111\"/>\n     <use x=\"1259.322266\" xlink:href=\"#DejaVuSans-115\"/>\n     <use x=\"1311.421875\" xlink:href=\"#DejaVuSans-115\"/>\n    </g>\n   </g>\n   <g id=\"legend_1\">\n    <g id=\"patch_7\">\n     <path d=\"M 315.59375 59.674375 \nL 371.58125 59.674375 \nQ 373.58125 59.674375 373.58125 57.674375 \nL 373.58125 29.318125 \nQ 373.58125 27.318125 371.58125 27.318125 \nL 315.59375 27.318125 \nQ 313.59375 27.318125 313.59375 29.318125 \nL 313.59375 57.674375 \nQ 313.59375 59.674375 315.59375 59.674375 \nz\n\" style=\"fill:#ffffff;opacity:0.8;stroke:#cccccc;stroke-linejoin:miter;\"/>\n    </g>\n    <g id=\"line2d_16\">\n     <path d=\"M 317.59375 35.416562 \nL 337.59375 35.416562 \n\" style=\"fill:none;stroke:#0000ff;stroke-linecap:square;stroke-width:1.5;\"/>\n    </g>\n    <g id=\"line2d_17\"/>\n    <g id=\"text_17\">\n     <!-- Train -->\n     <g transform=\"translate(345.59375 38.916562)scale(0.1 -0.1)\">\n      <use xlink:href=\"#DejaVuSans-84\"/>\n      <use x=\"46.333984\" xlink:href=\"#DejaVuSans-114\"/>\n      <use x=\"87.447266\" xlink:href=\"#DejaVuSans-97\"/>\n      <use x=\"148.726562\" xlink:href=\"#DejaVuSans-105\"/>\n      <use x=\"176.509766\" xlink:href=\"#DejaVuSans-110\"/>\n     </g>\n    </g>\n    <g id=\"line2d_18\">\n     <path d=\"M 317.59375 50.094687 \nL 337.59375 50.094687 \n\" style=\"fill:none;stroke:#ffa500;stroke-linecap:square;stroke-width:1.5;\"/>\n    </g>\n    <g id=\"line2d_19\"/>\n    <g id=\"text_18\">\n     <!-- Val -->\n     <g transform=\"translate(345.59375 53.594687)scale(0.1 -0.1)\">\n      <defs>\n       <path d=\"M 28.609375 0 \nL 0.78125 72.90625 \nL 11.078125 72.90625 \nL 34.1875 11.53125 \nL 57.328125 72.90625 \nL 67.578125 72.90625 \nL 39.796875 0 \nz\n\" id=\"DejaVuSans-86\"/>\n      </defs>\n      <use xlink:href=\"#DejaVuSans-86\"/>\n      <use x=\"60.658203\" xlink:href=\"#DejaVuSans-97\"/>\n      <use x=\"121.9375\" xlink:href=\"#DejaVuSans-108\"/>\n     </g>\n    </g>\n   </g>\n  </g>\n </g>\n <defs>\n  <clipPath id=\"p0b8cb41a82\">\n   <rect height=\"217.44\" width=\"334.8\" x=\"43.78125\" y=\"22.318125\"/>\n  </clipPath>\n </defs>\n</svg>\n",
      "image/png": "[encoded data removed]"
     },
     "metadata": {
      "needs_background": "light"
     }
    }
   ],
   "source": [
    "import matplotlib.pyplot as plt\n",
    "\n",
    "# A plotting function you can reuse\n",
    "def plot(history):\n",
    "  \n",
    "  # The history object contains results on the training and test\n",
    "  # sets for each epoch\n",
    "  acc = history.history['accuracy']\n",
    "  val_acc = history.history['val_accuracy']\n",
    "  loss = history.history['loss']\n",
    "  val_loss = history.history['val_loss']\n",
    "\n",
    "  # Get the number of epochs\n",
    "  epochs = range(len(acc))\n",
    "\n",
    "  plt.title('Training and validation accuracy')\n",
    "  plt.plot(epochs, acc, color='blue', label='Train')\n",
    "  plt.plot(epochs, val_acc, color='orange', label='Val')\n",
    "  plt.xlabel('Epoch')\n",
    "  plt.ylabel('Accuracy')\n",
    "  plt.legend()\n",
    "\n",
    "  _ = plt.figure()\n",
    "  plt.title('Training and validation loss')\n",
    "  plt.plot(epochs, loss, color='blue', label='Train')\n",
    "  plt.plot(epochs, val_loss, color='orange', label='Val')\n",
    "  plt.xlabel('Epoch')\n",
    "  plt.ylabel('Loss')\n",
    "  plt.legend()\n",
    "  \n",
    "plot(history)"
   ]
  },
  {
   "source": [
    "# Creating an Advanced Tunable Model for Classification on Int Vectorized Data"
   ],
   "cell_type": "markdown",
   "metadata": {}
  },
  {
   "cell_type": "code",
   "execution_count": 25,
   "metadata": {},
   "outputs": [],
   "source": [
    "num_labels=11\n",
    "def create_model(hp):\n",
    "  # using hyperparameters that Keras will tune to decide features such as number of \n",
    "  # neurons, presence of layers, type of activation functions, etc. \n",
    "  num_units_embedding_conv1d = hp.Int('units',\n",
    "                                        min_value=64,\n",
    "                                        max_value=256,\n",
    "                                        step=16)\n",
    "  num_units_dense = hp.Int('units_1', min_value=16, max_value=32, step=4)\n",
    "  activation_func = hp.Choice('activation_func', values=[1, 2])\n",
    "  \n",
    "  if (activation_func == 1):\n",
    "    activation_function = 'relu'\n",
    "  else:\n",
    "    activation_function = 'sigmoid'\n",
    "  \n",
    "  additional_dense_layer = hp.Choice('additional_dense_layer', values=[1, 2])\n",
    "  num_units_dense_2 = hp.Int('units_2', min_value=32, max_value=64, step=4)\n",
    "  activation_func_2 = hp.Choice('activation_func_2', values=[1, 2])\n",
    "  if (activation_func_2 == 1):\n",
    "    activation_function_2 = 'relu'\n",
    "  else:\n",
    "    activation_function_2 = 'sigmoid'\n",
    "  \n",
    "  activation_func_embedding = hp.Choice('activation_func_3', values=[1, 2])\n",
    "  if (activation_func_embedding == 1):\n",
    "    activation_function_embedding = 'relu'\n",
    "  else:\n",
    "    activation_function_embedding = 'sigmoid'\n",
    "\n",
    "  num_strides = hp.Int('strides', min_value=1, max_value=4, step=1)\n",
    "  kernel_size = hp.Int('kernel_size', min_value=3, max_value=7, step=2)\n",
    "  learning_rate = hp.Choice('learning_rate', values=[1e-2, 1e-3, 1e-4])\n",
    "  pooling_layer = hp.Choice('pooling_layer', values=[1, 2])\n",
    "\n",
    "  dropout_rate = hp.Choice('dropout_rate', values=[0.1, 0.2, 0.3, 0.4, 0.5])\n",
    "\n",
    "  if (pooling_layer == 1):\n",
    "    global_pooling_layer = layers.GlobalMaxPooling1D()\n",
    "  else:\n",
    "    global_pooling_layer = layers.GlobalAveragePooling1D()\n",
    "  \n",
    "  if (additional_dense_layer == 2):\n",
    "    model = tf.keras.Sequential([\n",
    "        layers.Embedding(VOCAB_SIZE + 1, num_units_embedding_conv1d, mask_zero=True),\n",
    "        layers.Conv1D(num_units_embedding_conv1d, kernel_size, padding=\"valid\", activation=activation_function_embedding, strides=num_strides),\n",
    "        global_pooling_layer,\n",
    "        layers.Dense(num_units_dense, activation=activation_function),\n",
    "        layers.Dropout(dropout_rate),\n",
    "        layers.Dense(num_labels, activation='softmax')\n",
    "    ])\n",
    "  else:\n",
    "    model = tf.keras.Sequential([\n",
    "        layers.Embedding(VOCAB_SIZE + 1, num_units_embedding_conv1d, mask_zero=True),\n",
    "        layers.Conv1D(num_units_embedding_conv1d, kernel_size, padding=\"valid\", activation=activation_function_embedding, strides=num_strides),\n",
    "        global_pooling_layer,\n",
    "        layers.Dense(num_units_dense_2, activation=activation_function_2),\n",
    "        layers.Dense(num_units_dense, activation=activation_function),\n",
    "        layers.Dropout(dropout_rate),\n",
    "        layers.Dense(num_labels, activation='softmax')\n",
    "    ])\n",
    "  model.compile(\n",
    "    loss=losses.SparseCategoricalCrossentropy(from_logits=True),\n",
    "    optimizer=tf.keras.optimizers.Adam(learning_rate),\n",
    "    metrics=['accuracy', 'mse', 'mean_squared_logarithmic_error', 'mean_absolute_error','cosine_similarity',tf.keras.metrics.LogCoshError(name='logcosh', dtype=None), tf.keras.metrics.KLDivergence(name='kullback_leibler_divergence', dtype=None)])\n",
    "  return model"
   ]
  },
  {
   "source": [
    "# Using Keras Autotuner to Find the Model with the Highest Validation Accuracy"
   ],
   "cell_type": "markdown",
   "metadata": {}
  },
  {
   "cell_type": "code",
   "execution_count": 27,
   "metadata": {},
   "outputs": [
    {
     "output_type": "stream",
     "name": "stdout",
     "text": [
      "Search space summary\nDefault search space size: 12\nunits (Int)\n{'default': None, 'conditions': [], 'min_value': 64, 'max_value': 256, 'step': 16, 'sampling': None}\nunits_1 (Int)\n{'default': None, 'conditions': [], 'min_value': 16, 'max_value': 32, 'step': 4, 'sampling': None}\nactivation_func (Choice)\n{'default': 1, 'conditions': [], 'values': [1, 2], 'ordered': True}\nadditional_dense_layer (Choice)\n{'default': 1, 'conditions': [], 'values': [1, 2], 'ordered': True}\nunits_2 (Int)\n{'default': None, 'conditions': [], 'min_value': 32, 'max_value': 64, 'step': 4, 'sampling': None}\nactivation_func_2 (Choice)\n{'default': 1, 'conditions': [], 'values': [1, 2], 'ordered': True}\nactivation_func_3 (Choice)\n{'default': 1, 'conditions': [], 'values': [1, 2], 'ordered': True}\nstrides (Int)\n{'default': None, 'conditions': [], 'min_value': 1, 'max_value': 4, 'step': 1, 'sampling': None}\nkernel_size (Int)\n{'default': None, 'conditions': [], 'min_value': 3, 'max_value': 7, 'step': 2, 'sampling': None}\nlearning_rate (Choice)\n{'default': 0.01, 'conditions': [], 'values': [0.01, 0.001, 0.0001], 'ordered': True}\npooling_layer (Choice)\n{'default': 1, 'conditions': [], 'values': [1, 2], 'ordered': True}\ndropout_rate (Choice)\n{'default': 0.1, 'conditions': [], 'values': [0.1, 0.2, 0.3, 0.4, 0.5], 'ordered': True}\n"
     ]
    }
   ],
   "source": [
    "import kerastuner as kt\n",
    "\n",
    "tuner = kt.Hyperband(\n",
    "    create_model,\n",
    "    objective='val_accuracy',\n",
    "    max_epochs=30,\n",
    "    hyperband_iterations=5)\n",
    "\n",
    "tuner.search_space_summary()"
   ]
  },
  {
   "cell_type": "code",
   "execution_count": 28,
   "metadata": {},
   "outputs": [
    {
     "output_type": "stream",
     "name": "stdout",
     "text": [
      "Trial 450 Complete [00h 00m 57s]\nval_accuracy: 0.61031174659729\n\nBest val_accuracy So Far: 0.7326139211654663\nTotal elapsed time: 02h 33m 14s\nINFO:tensorflow:Oracle triggered exit\n"
     ]
    }
   ],
   "source": [
    "# history = int_model.fit(int_train_ds, validation_data=int_val_ds, epochs=5)\n",
    "tuner.search(int_train_ds, validation_data=int_val_ds, epochs=5, callbacks=[tf.keras.callbacks.EarlyStopping(patience=1)])"
   ]
  },
  {
   "cell_type": "code",
   "execution_count": 29,
   "metadata": {},
   "outputs": [
    {
     "output_type": "stream",
     "name": "stdout",
     "text": [
      "Results summary\nResults in ./untitled_project\nShowing 10 best trials\nObjective(name='val_accuracy', direction='max')\nTrial summary\nHyperparameters:\nunits: 224\nunits_1: 24\nactivation_func: 2\nadditional_dense_layer: 2\nunits_2: 40\nactivation_func_2: 1\nactivation_func_3: 2\nstrides: 1\nkernel_size: 5\nlearning_rate: 0.001\npooling_layer: 1\ndropout_rate: 0.5\ntuner/epochs: 30\ntuner/initial_epoch: 10\ntuner/bracket: 1\ntuner/round: 1\ntuner/trial_id: 3bb19afd3f0ab9ebcbedd28483213ece\nScore: 0.7326139211654663\nTrial summary\nHyperparameters:\nunits: 208\nunits_1: 24\nactivation_func: 1\nadditional_dense_layer: 1\nunits_2: 40\nactivation_func_2: 1\nactivation_func_3: 1\nstrides: 4\nkernel_size: 5\nlearning_rate: 0.001\npooling_layer: 1\ndropout_rate: 0.5\ntuner/epochs: 10\ntuner/initial_epoch: 4\ntuner/bracket: 3\ntuner/round: 2\ntuner/trial_id: 642fae39802bdf4b933166c6ba03cf92\nScore: 0.7314148545265198\nTrial summary\nHyperparameters:\nunits: 256\nunits_1: 28\nactivation_func: 2\nadditional_dense_layer: 1\nunits_2: 32\nactivation_func_2: 2\nactivation_func_3: 1\nstrides: 1\nkernel_size: 3\nlearning_rate: 0.001\npooling_layer: 1\ndropout_rate: 0.1\ntuner/epochs: 30\ntuner/initial_epoch: 10\ntuner/bracket: 3\ntuner/round: 3\ntuner/trial_id: 3621771eed7a749e8f784a63c189e41f\nScore: 0.7194244861602783\nTrial summary\nHyperparameters:\nunits: 256\nunits_1: 28\nactivation_func: 2\nadditional_dense_layer: 1\nunits_2: 32\nactivation_func_2: 2\nactivation_func_3: 1\nstrides: 1\nkernel_size: 3\nlearning_rate: 0.001\npooling_layer: 1\ndropout_rate: 0.1\ntuner/epochs: 10\ntuner/initial_epoch: 4\ntuner/bracket: 3\ntuner/round: 2\ntuner/trial_id: dcfa922911a3350e538897aa7cfdea33\nScore: 0.7182254195213318\nTrial summary\nHyperparameters:\nunits: 208\nunits_1: 32\nactivation_func: 2\nadditional_dense_layer: 2\nunits_2: 36\nactivation_func_2: 2\nactivation_func_3: 2\nstrides: 1\nkernel_size: 3\nlearning_rate: 0.001\npooling_layer: 1\ndropout_rate: 0.4\ntuner/epochs: 30\ntuner/initial_epoch: 10\ntuner/bracket: 2\ntuner/round: 2\ntuner/trial_id: 4b184880e2b66ee42ad8d7abb855c4d3\nScore: 0.7170263528823853\nTrial summary\nHyperparameters:\nunits: 128\nunits_1: 32\nactivation_func: 1\nadditional_dense_layer: 1\nunits_2: 56\nactivation_func_2: 1\nactivation_func_3: 1\nstrides: 3\nkernel_size: 5\nlearning_rate: 0.001\npooling_layer: 1\ndropout_rate: 0.2\ntuner/epochs: 10\ntuner/initial_epoch: 4\ntuner/bracket: 3\ntuner/round: 2\ntuner/trial_id: de397c50d475a31f03726491a9640583\nScore: 0.714628279209137\nTrial summary\nHyperparameters:\nunits: 224\nunits_1: 24\nactivation_func: 2\nadditional_dense_layer: 2\nunits_2: 40\nactivation_func_2: 1\nactivation_func_3: 2\nstrides: 1\nkernel_size: 5\nlearning_rate: 0.001\npooling_layer: 1\ndropout_rate: 0.5\ntuner/epochs: 10\ntuner/initial_epoch: 0\ntuner/bracket: 1\ntuner/round: 0\nScore: 0.714628279209137\nTrial summary\nHyperparameters:\nunits: 176\nunits_1: 20\nactivation_func: 2\nadditional_dense_layer: 2\nunits_2: 40\nactivation_func_2: 1\nactivation_func_3: 1\nstrides: 2\nkernel_size: 5\nlearning_rate: 0.001\npooling_layer: 1\ndropout_rate: 0.1\ntuner/epochs: 30\ntuner/initial_epoch: 10\ntuner/bracket: 3\ntuner/round: 3\ntuner/trial_id: 258c739c785cfbb266e8a67f4e86ea1d\nScore: 0.7122302055358887\nTrial summary\nHyperparameters:\nunits: 160\nunits_1: 28\nactivation_func: 1\nadditional_dense_layer: 2\nunits_2: 40\nactivation_func_2: 2\nactivation_func_3: 1\nstrides: 2\nkernel_size: 7\nlearning_rate: 0.001\npooling_layer: 1\ndropout_rate: 0.1\ntuner/epochs: 30\ntuner/initial_epoch: 10\ntuner/bracket: 3\ntuner/round: 3\ntuner/trial_id: 6a4d2d53f47c0e00c41e11c49ecd90df\nScore: 0.7110311985015869\nTrial summary\nHyperparameters:\nunits: 160\nunits_1: 28\nactivation_func: 1\nadditional_dense_layer: 2\nunits_2: 40\nactivation_func_2: 2\nactivation_func_3: 1\nstrides: 2\nkernel_size: 7\nlearning_rate: 0.001\npooling_layer: 1\ndropout_rate: 0.1\ntuner/epochs: 10\ntuner/initial_epoch: 4\ntuner/bracket: 3\ntuner/round: 2\ntuner/trial_id: 28d3e66dfc37da23671a63661b09c381\nScore: 0.7074340581893921\n"
     ]
    }
   ],
   "source": [
    "tuner.results_summary()"
   ]
  },
  {
   "source": [
    "# Obtaining the Best Model and Hyperparameters"
   ],
   "cell_type": "markdown",
   "metadata": {}
  },
  {
   "cell_type": "code",
   "execution_count": 30,
   "metadata": {},
   "outputs": [],
   "source": [
    "best_model = tuner.get_best_models(1)[0]"
   ]
  },
  {
   "cell_type": "code",
   "execution_count": 33,
   "metadata": {},
   "outputs": [
    {
     "output_type": "stream",
     "name": "stdout",
     "text": [
      "<kerastuner.engine.hyperparameters.HyperParameters object at 0x199e628b0>\n"
     ]
    }
   ],
   "source": [
    "best_hyperparameters = tuner.get_best_hyperparameters(1)[0]\n",
    "\n",
    "\n"
   ]
  },
  {
   "source": [
    "# Change the name of the model being saved to avoid overwriting previous models. \n",
    "The last model saved was 'best_int_model_trial_4'"
   ],
   "cell_type": "markdown",
   "metadata": {}
  },
  {
   "cell_type": "code",
   "execution_count": 34,
   "metadata": {},
   "outputs": [
    {
     "output_type": "stream",
     "name": "stdout",
     "text": [
      "INFO:tensorflow:Assets written to: best_int_model_trial_4/assets\n"
     ]
    }
   ],
   "source": [
    "tf.keras.models.save_model(best_model, 'best_int_model_trial_4', overwrite=True, include_optimizer=True, save_traces=True)"
   ]
  },
  {
   "cell_type": "code",
   "execution_count": 37,
   "metadata": {},
   "outputs": [
    {
     "output_type": "stream",
     "name": "stdout",
     "text": [
      "118/118 [==============================] - 1s 8ms/step - loss: 6.9843 - accuracy: 0.1682\n",
      "118/118 [==============================] - 0s 2ms/step - loss: 3.1906 - accuracy: 0.1303\n",
      "118/118 [==============================] - 0s 2ms/step - loss: 3.1906 - accuracy: 0.1303\n",
      "118/118 [==============================] - 1s 9ms/step - loss: 1.0463 - accuracy: 0.6682 - mse: 33.4358 - mean_squared_logarithmic_error: 2.8247 - mean_absolute_error: 4.8974 - cosine_similarity: 1.2863 - logcosh: 4.2715 - kullback_leibler_divergence: 50.4692\n",
      "Model: \"sequential\"\n",
      "_________________________________________________________________\n",
      "Layer (type)                 Output Shape              Param #   \n",
      "=================================================================\n",
      "embedding (Embedding)        (None, None, 112)         1120112   \n",
      "_________________________________________________________________\n",
      "conv1d (Conv1D)              (None, None, 112)         62832     \n",
      "_________________________________________________________________\n",
      "global_max_pooling1d (Global (None, 112)               0         \n",
      "_________________________________________________________________\n",
      "dense (Dense)                (None, 16)                1808      \n",
      "_________________________________________________________________\n",
      "dense_1 (Dense)              (None, 11)                187       \n",
      "=================================================================\n",
      "Total params: 1,184,939\n",
      "Trainable params: 1,184,939\n",
      "Non-trainable params: 0\n",
      "_________________________________________________________________\n",
      "Int model accuracy 1: 16.82%\n",
      "[6.9842634201049805, 0.16821438074111938]\n",
      "\n",
      "\n",
      "Model: \"sequential\"\n",
      "_________________________________________________________________\n",
      "Layer (type)                 Output Shape              Param #   \n",
      "=================================================================\n",
      "embedding (Embedding)        (None, None, 96)          960096    \n",
      "_________________________________________________________________\n",
      "conv1d (Conv1D)              (None, None, 96)          46176     \n",
      "_________________________________________________________________\n",
      "global_max_pooling1d (Global (None, 96)                0         \n",
      "_________________________________________________________________\n",
      "dense (Dense)                (None, 24)                2328      \n",
      "_________________________________________________________________\n",
      "dense_1 (Dense)              (None, 11)                275       \n",
      "=================================================================\n",
      "Total params: 1,008,875\n",
      "Trainable params: 1,008,875\n",
      "Non-trainable params: 0\n",
      "_________________________________________________________________\n",
      "Int model accuracy 2: 13.03%\n",
      "[3.1906237602233887, 0.13027328252792358]\n",
      "\n",
      "\n",
      "Model: \"sequential\"\n",
      "_________________________________________________________________\n",
      "Layer (type)                 Output Shape              Param #   \n",
      "=================================================================\n",
      "embedding (Embedding)        (None, None, 160)         1600160   \n",
      "_________________________________________________________________\n",
      "conv1d (Conv1D)              (None, None, 160)         128160    \n",
      "_________________________________________________________________\n",
      "global_max_pooling1d (Global (None, 160)               0         \n",
      "_________________________________________________________________\n",
      "dense (Dense)                (None, 52)                8372      \n",
      "_________________________________________________________________\n",
      "dense_1 (Dense)              (None, 28)                1484      \n",
      "_________________________________________________________________\n",
      "dropout (Dropout)            (None, 28)                0         \n",
      "_________________________________________________________________\n",
      "dense_2 (Dense)              (None, 11)                319       \n",
      "=================================================================\n",
      "Total params: 1,738,495\n",
      "Trainable params: 1,738,495\n",
      "Non-trainable params: 0\n",
      "_________________________________________________________________\n",
      "Int model accuracy 3: 13.03%\n",
      "[3.1906237602233887, 0.13027328252792358]\n",
      "\n",
      "\n",
      "Model: \"sequential\"\n",
      "_________________________________________________________________\n",
      "Layer (type)                 Output Shape              Param #   \n",
      "=================================================================\n",
      "embedding (Embedding)        (None, None, 224)         2240224   \n",
      "_________________________________________________________________\n",
      "conv1d (Conv1D)              (None, None, 224)         251104    \n",
      "_________________________________________________________________\n",
      "global_max_pooling1d (Global (None, 224)               0         \n",
      "_________________________________________________________________\n",
      "dense (Dense)                (None, 24)                5400      \n",
      "_________________________________________________________________\n",
      "dropout (Dropout)            (None, 24)                0         \n",
      "_________________________________________________________________\n",
      "dense_1 (Dense)              (None, 11)                275       \n",
      "=================================================================\n",
      "Total params: 2,497,003\n",
      "Trainable params: 2,497,003\n",
      "Non-trainable params: 0\n",
      "_________________________________________________________________\n",
      "Int model accuracy 4: 66.70%\n",
      "[1.0608689785003662, 0.6670204401016235, 32.852874755859375, 2.7976787090301514, 4.846861362457275, 1.2860690355300903, 4.2227067947387695, 50.19364547729492]\n"
     ]
    }
   ],
   "source": [
    "loaded_model_1 = tf.keras.models.load_model('best_int_model_trial_1', compile=True)\n",
    "loaded_model_2 = tf.keras.models.load_model('best_int_model_trial_2', compile=True)\n",
    "loaded_model_3 = tf.keras.models.load_model('best_int_model_trial_3', compile=True)\n",
    "int_metrics_1 = loaded_model_1.evaluate(int_test_ds)\n",
    "int_metrics_2 = loaded_model_2.evaluate(int_test_ds)\n",
    "int_metrics_3 = loaded_model_2.evaluate(int_test_ds)\n",
    "int_metrics_4 = best_model.evaluate(int_test_ds)\n",
    "\n",
    "\n",
    "loaded_model_1.summary()\n",
    "print(\"Int model accuracy 1: {:2.2%}\".format(int_metrics_1[1]))\n",
    "print(int_metrics_1)\n",
    "print('\\n')\n",
    "loaded_model_2.summary()\n",
    "print(\"Int model accuracy 2: {:2.2%}\".format(int_metrics_2[1]))\n",
    "print(int_metrics_2)\n",
    "print('\\n')\n",
    "loaded_model_3.summary()\n",
    "print(\"Int model accuracy 3: {:2.2%}\".format(int_metrics_3[1]))\n",
    "print(int_metrics_3)\n",
    "print('\\n')\n",
    "best_model.summary()\n",
    "print(\"Int model accuracy 4: {:2.2%}\".format(int_metrics_4[1]))\n",
    "print(int_metrics_4)\n"
   ]
  },
  {
   "source": [
    "# Evaluating Different Models on Test Dataset"
   ],
   "cell_type": "markdown",
   "metadata": {}
  },
  {
   "cell_type": "code",
   "execution_count": null,
   "metadata": {},
   "outputs": [],
   "source": [
    "\n",
    "int_metrics_1 = loaded_model_1.evaluate(int_test_ds)\n",
    "int_metrics_2 = loaded_model_2.evaluate(int_test_ds)\n",
    "int_metrics_3 = loaded_model_2.evaluate(int_test_ds)\n",
    "int_metrics_4 = best_model.evaluate(int_test_ds)\n",
    "\n",
    "print(\"Int model accuracy 1: {:2.2%}\".format(int_metrics_1[1]))\n",
    "print(\"Int model accuracy 2: {:2.2%}\".format(int_metrics_2[1]))\n",
    "print(\"Int model accuracy 3: {:2.2%}\".format(int_metrics_3[1]))\n",
    "print(\"Int model accuracy 4: {:2.2%}\".format(int_metrics_4[1]))"
   ]
  },
  {
   "cell_type": "code",
   "execution_count": null,
   "metadata": {},
   "outputs": [],
   "source": []
  }
 ]
}